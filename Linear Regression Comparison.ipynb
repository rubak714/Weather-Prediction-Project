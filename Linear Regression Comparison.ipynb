{
 "cells": [
  {
   "cell_type": "markdown",
   "id": "cea52de2",
   "metadata": {},
   "source": [
    "**Predict Weather in Szeged using Linear Regression, Polynomial Regression, Decision Tree, Random Forest with Cross Validation, then apply Grid Search CV, and Random Search CV and find the best parameters and estimators. Finally, acheive 99.99% accuracy.**"
   ]
  },
  {
   "cell_type": "markdown",
   "id": "503928ea",
   "metadata": {},
   "source": [
    "# Import the libraries"
   ]
  },
  {
   "cell_type": "code",
   "execution_count": 1,
   "id": "7709abee",
   "metadata": {
    "ExecuteTime": {
     "end_time": "2022-05-05T07:36:02.534251Z",
     "start_time": "2022-05-05T07:35:58.005266Z"
    }
   },
   "outputs": [],
   "source": [
    "import pandas as pd\n",
    "import numpy as np\n",
    "import matplotlib.pyplot as plt\n",
    "import seaborn as sns\n",
    "from sklearn.model_selection import train_test_split, StratifiedShuffleSplit\n",
    "from sklearn.pipeline import Pipeline\n",
    "from sklearn.preprocessing import StandardScaler, OrdinalEncoder\n",
    "from sklearn.compose import ColumnTransformer\n",
    "from sklearn.linear_model import LinearRegression\n",
    "from sklearn.preprocessing import PolynomialFeatures\n",
    "from sklearn.metrics import mean_squared_error\n",
    "from sklearn.tree import DecisionTreeRegressor\n",
    "from sklearn.model_selection import cross_val_score, cross_val_predict\n",
    "from sklearn.model_selection import GridSearchCV, RandomizedSearchCV\n",
    "from sklearn.ensemble import RandomForestRegressor\n",
    "from scipy.stats import randint\n",
    "from sklearn import metrics\n",
    "from sklearn.metrics import mean_squared_error,r2_score"
   ]
  },
  {
   "cell_type": "markdown",
   "id": "5f1a7ff5",
   "metadata": {},
   "source": [
    "# Goals to achieve:\n",
    "\n",
    "1. Frame the problem and look at the big picture.  \n",
    "2. Get the data.  \n",
    "3. Explore the data to gain insights.  \n",
    "4. Prepare the data to better expose the underlying data patterns to Machine Learning algorithms.  \n",
    "5. Explore many different models and short-list the best ones.  \n",
    "6. Fine-tune models and combine them into a great solution.  \n",
    "7. Present the solution.  \n",
    "8. Launch, monitor, and maintain the system."
   ]
  },
  {
   "cell_type": "markdown",
   "id": "6a96c6b7",
   "metadata": {},
   "source": [
    "## Framing the problem"
   ]
  },
  {
   "cell_type": "markdown",
   "id": "2e96e343",
   "metadata": {},
   "source": [
    "We want to explore the correlation between weather parameters. We will also check if there is any relationship between humidity and temperature as well as humidity and apparent temperature and try to predict apparent temperature using the most important features. Finally we will calculate the accuracy of our model. "
   ]
  },
  {
   "cell_type": "markdown",
   "id": "ccf47ae8",
   "metadata": {},
   "source": [
    "# Get Data"
   ]
  },
  {
   "cell_type": "code",
   "execution_count": 3,
   "id": "67b0b5df",
   "metadata": {
    "ExecuteTime": {
     "end_time": "2022-05-05T07:36:02.786307Z",
     "start_time": "2022-05-05T07:36:02.536659Z"
    }
   },
   "outputs": [
    {
     "data": {
      "text/html": [
       "<div>\n",
       "<style scoped>\n",
       "    .dataframe tbody tr th:only-of-type {\n",
       "        vertical-align: middle;\n",
       "    }\n",
       "\n",
       "    .dataframe tbody tr th {\n",
       "        vertical-align: top;\n",
       "    }\n",
       "\n",
       "    .dataframe thead th {\n",
       "        text-align: right;\n",
       "    }\n",
       "</style>\n",
       "<table border=\"1\" class=\"dataframe\">\n",
       "  <thead>\n",
       "    <tr style=\"text-align: right;\">\n",
       "      <th></th>\n",
       "      <th>Formatted Date</th>\n",
       "      <th>Summary</th>\n",
       "      <th>Precip Type</th>\n",
       "      <th>Temperature (C)</th>\n",
       "      <th>Apparent Temperature (C)</th>\n",
       "      <th>Humidity</th>\n",
       "      <th>Wind Speed (km/h)</th>\n",
       "      <th>Wind Bearing (degrees)</th>\n",
       "      <th>Visibility (km)</th>\n",
       "      <th>Loud Cover</th>\n",
       "      <th>Pressure (millibars)</th>\n",
       "      <th>Daily Summary</th>\n",
       "    </tr>\n",
       "  </thead>\n",
       "  <tbody>\n",
       "    <tr>\n",
       "      <th>0</th>\n",
       "      <td>2006-04-01 00:00:00.000 +0200</td>\n",
       "      <td>Partly Cloudy</td>\n",
       "      <td>rain</td>\n",
       "      <td>9.472222</td>\n",
       "      <td>7.388889</td>\n",
       "      <td>0.89</td>\n",
       "      <td>14.1197</td>\n",
       "      <td>251.0</td>\n",
       "      <td>15.8263</td>\n",
       "      <td>0.0</td>\n",
       "      <td>1015.13</td>\n",
       "      <td>Partly cloudy throughout the day.</td>\n",
       "    </tr>\n",
       "    <tr>\n",
       "      <th>1</th>\n",
       "      <td>2006-04-01 01:00:00.000 +0200</td>\n",
       "      <td>Partly Cloudy</td>\n",
       "      <td>rain</td>\n",
       "      <td>9.355556</td>\n",
       "      <td>7.227778</td>\n",
       "      <td>0.86</td>\n",
       "      <td>14.2646</td>\n",
       "      <td>259.0</td>\n",
       "      <td>15.8263</td>\n",
       "      <td>0.0</td>\n",
       "      <td>1015.63</td>\n",
       "      <td>Partly cloudy throughout the day.</td>\n",
       "    </tr>\n",
       "    <tr>\n",
       "      <th>2</th>\n",
       "      <td>2006-04-01 02:00:00.000 +0200</td>\n",
       "      <td>Mostly Cloudy</td>\n",
       "      <td>rain</td>\n",
       "      <td>9.377778</td>\n",
       "      <td>9.377778</td>\n",
       "      <td>0.89</td>\n",
       "      <td>3.9284</td>\n",
       "      <td>204.0</td>\n",
       "      <td>14.9569</td>\n",
       "      <td>0.0</td>\n",
       "      <td>1015.94</td>\n",
       "      <td>Partly cloudy throughout the day.</td>\n",
       "    </tr>\n",
       "    <tr>\n",
       "      <th>3</th>\n",
       "      <td>2006-04-01 03:00:00.000 +0200</td>\n",
       "      <td>Partly Cloudy</td>\n",
       "      <td>rain</td>\n",
       "      <td>8.288889</td>\n",
       "      <td>5.944444</td>\n",
       "      <td>0.83</td>\n",
       "      <td>14.1036</td>\n",
       "      <td>269.0</td>\n",
       "      <td>15.8263</td>\n",
       "      <td>0.0</td>\n",
       "      <td>1016.41</td>\n",
       "      <td>Partly cloudy throughout the day.</td>\n",
       "    </tr>\n",
       "    <tr>\n",
       "      <th>4</th>\n",
       "      <td>2006-04-01 04:00:00.000 +0200</td>\n",
       "      <td>Mostly Cloudy</td>\n",
       "      <td>rain</td>\n",
       "      <td>8.755556</td>\n",
       "      <td>6.977778</td>\n",
       "      <td>0.83</td>\n",
       "      <td>11.0446</td>\n",
       "      <td>259.0</td>\n",
       "      <td>15.8263</td>\n",
       "      <td>0.0</td>\n",
       "      <td>1016.51</td>\n",
       "      <td>Partly cloudy throughout the day.</td>\n",
       "    </tr>\n",
       "  </tbody>\n",
       "</table>\n",
       "</div>"
      ],
      "text/plain": [
       "                  Formatted Date        Summary Precip Type  Temperature (C)  \\\n",
       "0  2006-04-01 00:00:00.000 +0200  Partly Cloudy        rain         9.472222   \n",
       "1  2006-04-01 01:00:00.000 +0200  Partly Cloudy        rain         9.355556   \n",
       "2  2006-04-01 02:00:00.000 +0200  Mostly Cloudy        rain         9.377778   \n",
       "3  2006-04-01 03:00:00.000 +0200  Partly Cloudy        rain         8.288889   \n",
       "4  2006-04-01 04:00:00.000 +0200  Mostly Cloudy        rain         8.755556   \n",
       "\n",
       "   Apparent Temperature (C)  Humidity  Wind Speed (km/h)  \\\n",
       "0                  7.388889      0.89            14.1197   \n",
       "1                  7.227778      0.86            14.2646   \n",
       "2                  9.377778      0.89             3.9284   \n",
       "3                  5.944444      0.83            14.1036   \n",
       "4                  6.977778      0.83            11.0446   \n",
       "\n",
       "   Wind Bearing (degrees)  Visibility (km)  Loud Cover  Pressure (millibars)  \\\n",
       "0                   251.0          15.8263         0.0               1015.13   \n",
       "1                   259.0          15.8263         0.0               1015.63   \n",
       "2                   204.0          14.9569         0.0               1015.94   \n",
       "3                   269.0          15.8263         0.0               1016.41   \n",
       "4                   259.0          15.8263         0.0               1016.51   \n",
       "\n",
       "                       Daily Summary  \n",
       "0  Partly cloudy throughout the day.  \n",
       "1  Partly cloudy throughout the day.  \n",
       "2  Partly cloudy throughout the day.  \n",
       "3  Partly cloudy throughout the day.  \n",
       "4  Partly cloudy throughout the day.  "
      ]
     },
     "execution_count": 3,
     "metadata": {},
     "output_type": "execute_result"
    }
   ],
   "source": [
    "df = pd.read_csv(\"weatherHistory.csv\")\n",
    "df.head()"
   ]
  },
  {
   "cell_type": "markdown",
   "id": "0f009c14",
   "metadata": {},
   "source": [
    "## Explore the Data"
   ]
  },
  {
   "cell_type": "code",
   "execution_count": 4,
   "id": "730b16fd",
   "metadata": {
    "ExecuteTime": {
     "end_time": "2022-05-05T07:36:02.834346Z",
     "start_time": "2022-05-05T07:36:02.788452Z"
    }
   },
   "outputs": [
    {
     "name": "stdout",
     "output_type": "stream",
     "text": [
      "<class 'pandas.core.frame.DataFrame'>\n",
      "RangeIndex: 96453 entries, 0 to 96452\n",
      "Data columns (total 12 columns):\n",
      " #   Column                    Non-Null Count  Dtype  \n",
      "---  ------                    --------------  -----  \n",
      " 0   Formatted Date            96453 non-null  object \n",
      " 1   Summary                   96453 non-null  object \n",
      " 2   Precip Type               95936 non-null  object \n",
      " 3   Temperature (C)           96453 non-null  float64\n",
      " 4   Apparent Temperature (C)  96453 non-null  float64\n",
      " 5   Humidity                  96453 non-null  float64\n",
      " 6   Wind Speed (km/h)         96453 non-null  float64\n",
      " 7   Wind Bearing (degrees)    96453 non-null  float64\n",
      " 8   Visibility (km)           96453 non-null  float64\n",
      " 9   Loud Cover                96453 non-null  float64\n",
      " 10  Pressure (millibars)      96453 non-null  float64\n",
      " 11  Daily Summary             96453 non-null  object \n",
      "dtypes: float64(8), object(4)\n",
      "memory usage: 8.8+ MB\n"
     ]
    }
   ],
   "source": [
    "df.info()"
   ]
  },
  {
   "cell_type": "markdown",
   "id": "a0ad26b9",
   "metadata": {},
   "source": [
    "We can observe there are total 12 columns where 8 columns are numerical and 4 are object type. In total, 96453 rows of data are available.  "
   ]
  },
  {
   "cell_type": "code",
   "execution_count": 5,
   "id": "10956a25",
   "metadata": {
    "ExecuteTime": {
     "end_time": "2022-05-05T07:36:03.065390Z",
     "start_time": "2022-05-05T07:36:02.837723Z"
    }
   },
   "outputs": [
    {
     "data": {
      "text/html": [
       "<div>\n",
       "<style scoped>\n",
       "    .dataframe tbody tr th:only-of-type {\n",
       "        vertical-align: middle;\n",
       "    }\n",
       "\n",
       "    .dataframe tbody tr th {\n",
       "        vertical-align: top;\n",
       "    }\n",
       "\n",
       "    .dataframe thead th {\n",
       "        text-align: right;\n",
       "    }\n",
       "</style>\n",
       "<table border=\"1\" class=\"dataframe\">\n",
       "  <thead>\n",
       "    <tr style=\"text-align: right;\">\n",
       "      <th></th>\n",
       "      <th>Formatted Date</th>\n",
       "      <th>Summary</th>\n",
       "      <th>Precip Type</th>\n",
       "      <th>Temperature (C)</th>\n",
       "      <th>Apparent Temperature (C)</th>\n",
       "      <th>Humidity</th>\n",
       "      <th>Wind Speed (km/h)</th>\n",
       "      <th>Wind Bearing (degrees)</th>\n",
       "      <th>Visibility (km)</th>\n",
       "      <th>Loud Cover</th>\n",
       "      <th>Pressure (millibars)</th>\n",
       "      <th>Daily Summary</th>\n",
       "    </tr>\n",
       "  </thead>\n",
       "  <tbody>\n",
       "    <tr>\n",
       "      <th>count</th>\n",
       "      <td>96453</td>\n",
       "      <td>96453</td>\n",
       "      <td>95936</td>\n",
       "      <td>96453.000000</td>\n",
       "      <td>96453.000000</td>\n",
       "      <td>96453.000000</td>\n",
       "      <td>96453.000000</td>\n",
       "      <td>96453.000000</td>\n",
       "      <td>96453.000000</td>\n",
       "      <td>96453.0</td>\n",
       "      <td>96453.000000</td>\n",
       "      <td>96453</td>\n",
       "    </tr>\n",
       "    <tr>\n",
       "      <th>unique</th>\n",
       "      <td>96429</td>\n",
       "      <td>27</td>\n",
       "      <td>2</td>\n",
       "      <td>NaN</td>\n",
       "      <td>NaN</td>\n",
       "      <td>NaN</td>\n",
       "      <td>NaN</td>\n",
       "      <td>NaN</td>\n",
       "      <td>NaN</td>\n",
       "      <td>NaN</td>\n",
       "      <td>NaN</td>\n",
       "      <td>214</td>\n",
       "    </tr>\n",
       "    <tr>\n",
       "      <th>top</th>\n",
       "      <td>2010-08-02 00:00:00.000 +0200</td>\n",
       "      <td>Partly Cloudy</td>\n",
       "      <td>rain</td>\n",
       "      <td>NaN</td>\n",
       "      <td>NaN</td>\n",
       "      <td>NaN</td>\n",
       "      <td>NaN</td>\n",
       "      <td>NaN</td>\n",
       "      <td>NaN</td>\n",
       "      <td>NaN</td>\n",
       "      <td>NaN</td>\n",
       "      <td>Mostly cloudy throughout the day.</td>\n",
       "    </tr>\n",
       "    <tr>\n",
       "      <th>freq</th>\n",
       "      <td>2</td>\n",
       "      <td>31733</td>\n",
       "      <td>85224</td>\n",
       "      <td>NaN</td>\n",
       "      <td>NaN</td>\n",
       "      <td>NaN</td>\n",
       "      <td>NaN</td>\n",
       "      <td>NaN</td>\n",
       "      <td>NaN</td>\n",
       "      <td>NaN</td>\n",
       "      <td>NaN</td>\n",
       "      <td>20085</td>\n",
       "    </tr>\n",
       "    <tr>\n",
       "      <th>mean</th>\n",
       "      <td>NaN</td>\n",
       "      <td>NaN</td>\n",
       "      <td>NaN</td>\n",
       "      <td>11.932678</td>\n",
       "      <td>10.855029</td>\n",
       "      <td>0.734899</td>\n",
       "      <td>10.810640</td>\n",
       "      <td>187.509232</td>\n",
       "      <td>10.347325</td>\n",
       "      <td>0.0</td>\n",
       "      <td>1003.235956</td>\n",
       "      <td>NaN</td>\n",
       "    </tr>\n",
       "    <tr>\n",
       "      <th>std</th>\n",
       "      <td>NaN</td>\n",
       "      <td>NaN</td>\n",
       "      <td>NaN</td>\n",
       "      <td>9.551546</td>\n",
       "      <td>10.696847</td>\n",
       "      <td>0.195473</td>\n",
       "      <td>6.913571</td>\n",
       "      <td>107.383428</td>\n",
       "      <td>4.192123</td>\n",
       "      <td>0.0</td>\n",
       "      <td>116.969906</td>\n",
       "      <td>NaN</td>\n",
       "    </tr>\n",
       "    <tr>\n",
       "      <th>min</th>\n",
       "      <td>NaN</td>\n",
       "      <td>NaN</td>\n",
       "      <td>NaN</td>\n",
       "      <td>-21.822222</td>\n",
       "      <td>-27.716667</td>\n",
       "      <td>0.000000</td>\n",
       "      <td>0.000000</td>\n",
       "      <td>0.000000</td>\n",
       "      <td>0.000000</td>\n",
       "      <td>0.0</td>\n",
       "      <td>0.000000</td>\n",
       "      <td>NaN</td>\n",
       "    </tr>\n",
       "    <tr>\n",
       "      <th>25%</th>\n",
       "      <td>NaN</td>\n",
       "      <td>NaN</td>\n",
       "      <td>NaN</td>\n",
       "      <td>4.688889</td>\n",
       "      <td>2.311111</td>\n",
       "      <td>0.600000</td>\n",
       "      <td>5.828200</td>\n",
       "      <td>116.000000</td>\n",
       "      <td>8.339800</td>\n",
       "      <td>0.0</td>\n",
       "      <td>1011.900000</td>\n",
       "      <td>NaN</td>\n",
       "    </tr>\n",
       "    <tr>\n",
       "      <th>50%</th>\n",
       "      <td>NaN</td>\n",
       "      <td>NaN</td>\n",
       "      <td>NaN</td>\n",
       "      <td>12.000000</td>\n",
       "      <td>12.000000</td>\n",
       "      <td>0.780000</td>\n",
       "      <td>9.965900</td>\n",
       "      <td>180.000000</td>\n",
       "      <td>10.046400</td>\n",
       "      <td>0.0</td>\n",
       "      <td>1016.450000</td>\n",
       "      <td>NaN</td>\n",
       "    </tr>\n",
       "    <tr>\n",
       "      <th>75%</th>\n",
       "      <td>NaN</td>\n",
       "      <td>NaN</td>\n",
       "      <td>NaN</td>\n",
       "      <td>18.838889</td>\n",
       "      <td>18.838889</td>\n",
       "      <td>0.890000</td>\n",
       "      <td>14.135800</td>\n",
       "      <td>290.000000</td>\n",
       "      <td>14.812000</td>\n",
       "      <td>0.0</td>\n",
       "      <td>1021.090000</td>\n",
       "      <td>NaN</td>\n",
       "    </tr>\n",
       "    <tr>\n",
       "      <th>max</th>\n",
       "      <td>NaN</td>\n",
       "      <td>NaN</td>\n",
       "      <td>NaN</td>\n",
       "      <td>39.905556</td>\n",
       "      <td>39.344444</td>\n",
       "      <td>1.000000</td>\n",
       "      <td>63.852600</td>\n",
       "      <td>359.000000</td>\n",
       "      <td>16.100000</td>\n",
       "      <td>0.0</td>\n",
       "      <td>1046.380000</td>\n",
       "      <td>NaN</td>\n",
       "    </tr>\n",
       "  </tbody>\n",
       "</table>\n",
       "</div>"
      ],
      "text/plain": [
       "                       Formatted Date        Summary Precip Type  \\\n",
       "count                           96453          96453       95936   \n",
       "unique                          96429             27           2   \n",
       "top     2010-08-02 00:00:00.000 +0200  Partly Cloudy        rain   \n",
       "freq                                2          31733       85224   \n",
       "mean                              NaN            NaN         NaN   \n",
       "std                               NaN            NaN         NaN   \n",
       "min                               NaN            NaN         NaN   \n",
       "25%                               NaN            NaN         NaN   \n",
       "50%                               NaN            NaN         NaN   \n",
       "75%                               NaN            NaN         NaN   \n",
       "max                               NaN            NaN         NaN   \n",
       "\n",
       "        Temperature (C)  Apparent Temperature (C)      Humidity  \\\n",
       "count      96453.000000              96453.000000  96453.000000   \n",
       "unique              NaN                       NaN           NaN   \n",
       "top                 NaN                       NaN           NaN   \n",
       "freq                NaN                       NaN           NaN   \n",
       "mean          11.932678                 10.855029      0.734899   \n",
       "std            9.551546                 10.696847      0.195473   \n",
       "min          -21.822222                -27.716667      0.000000   \n",
       "25%            4.688889                  2.311111      0.600000   \n",
       "50%           12.000000                 12.000000      0.780000   \n",
       "75%           18.838889                 18.838889      0.890000   \n",
       "max           39.905556                 39.344444      1.000000   \n",
       "\n",
       "        Wind Speed (km/h)  Wind Bearing (degrees)  Visibility (km)  \\\n",
       "count        96453.000000            96453.000000     96453.000000   \n",
       "unique                NaN                     NaN              NaN   \n",
       "top                   NaN                     NaN              NaN   \n",
       "freq                  NaN                     NaN              NaN   \n",
       "mean            10.810640              187.509232        10.347325   \n",
       "std              6.913571              107.383428         4.192123   \n",
       "min              0.000000                0.000000         0.000000   \n",
       "25%              5.828200              116.000000         8.339800   \n",
       "50%              9.965900              180.000000        10.046400   \n",
       "75%             14.135800              290.000000        14.812000   \n",
       "max             63.852600              359.000000        16.100000   \n",
       "\n",
       "        Loud Cover  Pressure (millibars)                      Daily Summary  \n",
       "count      96453.0          96453.000000                              96453  \n",
       "unique         NaN                   NaN                                214  \n",
       "top            NaN                   NaN  Mostly cloudy throughout the day.  \n",
       "freq           NaN                   NaN                              20085  \n",
       "mean           0.0           1003.235956                                NaN  \n",
       "std            0.0            116.969906                                NaN  \n",
       "min            0.0              0.000000                                NaN  \n",
       "25%            0.0           1011.900000                                NaN  \n",
       "50%            0.0           1016.450000                                NaN  \n",
       "75%            0.0           1021.090000                                NaN  \n",
       "max            0.0           1046.380000                                NaN  "
      ]
     },
     "execution_count": 5,
     "metadata": {},
     "output_type": "execute_result"
    }
   ],
   "source": [
    "df.describe(include='all')"
   ]
  },
  {
   "cell_type": "markdown",
   "id": "4f74e816",
   "metadata": {},
   "source": [
    "## Observations\n",
    "- Attributes have very different scales\n",
    "- There are some null values in **Precip Types** column\n",
    "- **Formatted Date** column has some duplicate date, we can not have two records at the same time\n",
    "- All the values in **Loud Cover** column are zero, thus we can drop this column"
   ]
  },
  {
   "cell_type": "markdown",
   "id": "e9c1c32e",
   "metadata": {},
   "source": [
    "# Prepare the Data"
   ]
  },
  {
   "cell_type": "markdown",
   "id": "9a8f7af7",
   "metadata": {},
   "source": [
    "## Drop Duplicate Values"
   ]
  },
  {
   "cell_type": "code",
   "execution_count": 6,
   "id": "8e772ca9",
   "metadata": {
    "ExecuteTime": {
     "end_time": "2022-05-05T07:36:03.112578Z",
     "start_time": "2022-05-05T07:36:03.066388Z"
    }
   },
   "outputs": [
    {
     "name": "stdout",
     "output_type": "stream",
     "text": [
      "(96429, 12)\n"
     ]
    }
   ],
   "source": [
    "df = df.drop_duplicates(['Formatted Date'], keep='first')\n",
    "print(df.shape)"
   ]
  },
  {
   "cell_type": "markdown",
   "id": "a9b9c459",
   "metadata": {},
   "source": [
    "As we drop some rows from the dataset, some indexes are missing now. That is why, we sort the data by **Formatted Date** and reset the indexes."
   ]
  },
  {
   "cell_type": "code",
   "execution_count": 7,
   "id": "d5cd23fb",
   "metadata": {
    "ExecuteTime": {
     "end_time": "2022-05-05T07:36:03.189925Z",
     "start_time": "2022-05-05T07:36:03.113580Z"
    }
   },
   "outputs": [],
   "source": [
    "df.sort_values(by=['Formatted Date'], inplace=True)\n",
    "df.reset_index(inplace=True, drop=True)"
   ]
  },
  {
   "cell_type": "code",
   "execution_count": 8,
   "id": "f74ba8ac",
   "metadata": {
    "ExecuteTime": {
     "end_time": "2022-05-05T07:36:03.220778Z",
     "start_time": "2022-05-05T07:36:03.190917Z"
    }
   },
   "outputs": [
    {
     "data": {
      "text/html": [
       "<div>\n",
       "<style scoped>\n",
       "    .dataframe tbody tr th:only-of-type {\n",
       "        vertical-align: middle;\n",
       "    }\n",
       "\n",
       "    .dataframe tbody tr th {\n",
       "        vertical-align: top;\n",
       "    }\n",
       "\n",
       "    .dataframe thead th {\n",
       "        text-align: right;\n",
       "    }\n",
       "</style>\n",
       "<table border=\"1\" class=\"dataframe\">\n",
       "  <thead>\n",
       "    <tr style=\"text-align: right;\">\n",
       "      <th></th>\n",
       "      <th>Formatted Date</th>\n",
       "      <th>Summary</th>\n",
       "      <th>Precip Type</th>\n",
       "      <th>Temperature (C)</th>\n",
       "      <th>Apparent Temperature (C)</th>\n",
       "      <th>Humidity</th>\n",
       "      <th>Wind Speed (km/h)</th>\n",
       "      <th>Wind Bearing (degrees)</th>\n",
       "      <th>Visibility (km)</th>\n",
       "      <th>Loud Cover</th>\n",
       "      <th>Pressure (millibars)</th>\n",
       "      <th>Daily Summary</th>\n",
       "    </tr>\n",
       "  </thead>\n",
       "  <tbody>\n",
       "    <tr>\n",
       "      <th>0</th>\n",
       "      <td>2006-01-01 00:00:00.000 +0100</td>\n",
       "      <td>Partly Cloudy</td>\n",
       "      <td>rain</td>\n",
       "      <td>0.577778</td>\n",
       "      <td>-4.050000</td>\n",
       "      <td>0.89</td>\n",
       "      <td>17.1143</td>\n",
       "      <td>140.0</td>\n",
       "      <td>9.9820</td>\n",
       "      <td>0.0</td>\n",
       "      <td>1016.66</td>\n",
       "      <td>Mostly cloudy throughout the day.</td>\n",
       "    </tr>\n",
       "    <tr>\n",
       "      <th>1</th>\n",
       "      <td>2006-01-01 01:00:00.000 +0100</td>\n",
       "      <td>Mostly Cloudy</td>\n",
       "      <td>rain</td>\n",
       "      <td>1.161111</td>\n",
       "      <td>-3.238889</td>\n",
       "      <td>0.85</td>\n",
       "      <td>16.6152</td>\n",
       "      <td>139.0</td>\n",
       "      <td>9.9015</td>\n",
       "      <td>0.0</td>\n",
       "      <td>1016.15</td>\n",
       "      <td>Mostly cloudy throughout the day.</td>\n",
       "    </tr>\n",
       "    <tr>\n",
       "      <th>2</th>\n",
       "      <td>2006-01-01 02:00:00.000 +0100</td>\n",
       "      <td>Mostly Cloudy</td>\n",
       "      <td>rain</td>\n",
       "      <td>1.666667</td>\n",
       "      <td>-3.155556</td>\n",
       "      <td>0.82</td>\n",
       "      <td>20.2538</td>\n",
       "      <td>140.0</td>\n",
       "      <td>9.9015</td>\n",
       "      <td>0.0</td>\n",
       "      <td>1015.87</td>\n",
       "      <td>Mostly cloudy throughout the day.</td>\n",
       "    </tr>\n",
       "    <tr>\n",
       "      <th>3</th>\n",
       "      <td>2006-01-01 03:00:00.000 +0100</td>\n",
       "      <td>Overcast</td>\n",
       "      <td>rain</td>\n",
       "      <td>1.711111</td>\n",
       "      <td>-2.194444</td>\n",
       "      <td>0.82</td>\n",
       "      <td>14.4900</td>\n",
       "      <td>140.0</td>\n",
       "      <td>9.9015</td>\n",
       "      <td>0.0</td>\n",
       "      <td>1015.56</td>\n",
       "      <td>Mostly cloudy throughout the day.</td>\n",
       "    </tr>\n",
       "    <tr>\n",
       "      <th>4</th>\n",
       "      <td>2006-01-01 04:00:00.000 +0100</td>\n",
       "      <td>Mostly Cloudy</td>\n",
       "      <td>rain</td>\n",
       "      <td>1.183333</td>\n",
       "      <td>-2.744444</td>\n",
       "      <td>0.86</td>\n",
       "      <td>13.9426</td>\n",
       "      <td>134.0</td>\n",
       "      <td>9.9015</td>\n",
       "      <td>0.0</td>\n",
       "      <td>1014.98</td>\n",
       "      <td>Mostly cloudy throughout the day.</td>\n",
       "    </tr>\n",
       "  </tbody>\n",
       "</table>\n",
       "</div>"
      ],
      "text/plain": [
       "                  Formatted Date        Summary Precip Type  Temperature (C)  \\\n",
       "0  2006-01-01 00:00:00.000 +0100  Partly Cloudy        rain         0.577778   \n",
       "1  2006-01-01 01:00:00.000 +0100  Mostly Cloudy        rain         1.161111   \n",
       "2  2006-01-01 02:00:00.000 +0100  Mostly Cloudy        rain         1.666667   \n",
       "3  2006-01-01 03:00:00.000 +0100       Overcast        rain         1.711111   \n",
       "4  2006-01-01 04:00:00.000 +0100  Mostly Cloudy        rain         1.183333   \n",
       "\n",
       "   Apparent Temperature (C)  Humidity  Wind Speed (km/h)  \\\n",
       "0                 -4.050000      0.89            17.1143   \n",
       "1                 -3.238889      0.85            16.6152   \n",
       "2                 -3.155556      0.82            20.2538   \n",
       "3                 -2.194444      0.82            14.4900   \n",
       "4                 -2.744444      0.86            13.9426   \n",
       "\n",
       "   Wind Bearing (degrees)  Visibility (km)  Loud Cover  Pressure (millibars)  \\\n",
       "0                   140.0           9.9820         0.0               1016.66   \n",
       "1                   139.0           9.9015         0.0               1016.15   \n",
       "2                   140.0           9.9015         0.0               1015.87   \n",
       "3                   140.0           9.9015         0.0               1015.56   \n",
       "4                   134.0           9.9015         0.0               1014.98   \n",
       "\n",
       "                       Daily Summary  \n",
       "0  Mostly cloudy throughout the day.  \n",
       "1  Mostly cloudy throughout the day.  \n",
       "2  Mostly cloudy throughout the day.  \n",
       "3  Mostly cloudy throughout the day.  \n",
       "4  Mostly cloudy throughout the day.  "
      ]
     },
     "execution_count": 8,
     "metadata": {},
     "output_type": "execute_result"
    }
   ],
   "source": [
    "df.head()"
   ]
  },
  {
   "cell_type": "markdown",
   "id": "97b3ac0b",
   "metadata": {},
   "source": [
    "## Drop Unnecessary Column "
   ]
  },
  {
   "cell_type": "code",
   "execution_count": 9,
   "id": "c4cce7f0",
   "metadata": {
    "ExecuteTime": {
     "end_time": "2022-05-05T07:36:03.252545Z",
     "start_time": "2022-05-05T07:36:03.222769Z"
    }
   },
   "outputs": [
    {
     "data": {
      "text/html": [
       "<div>\n",
       "<style scoped>\n",
       "    .dataframe tbody tr th:only-of-type {\n",
       "        vertical-align: middle;\n",
       "    }\n",
       "\n",
       "    .dataframe tbody tr th {\n",
       "        vertical-align: top;\n",
       "    }\n",
       "\n",
       "    .dataframe thead th {\n",
       "        text-align: right;\n",
       "    }\n",
       "</style>\n",
       "<table border=\"1\" class=\"dataframe\">\n",
       "  <thead>\n",
       "    <tr style=\"text-align: right;\">\n",
       "      <th></th>\n",
       "      <th>Summary</th>\n",
       "      <th>Precip Type</th>\n",
       "      <th>Temperature (C)</th>\n",
       "      <th>Apparent Temperature (C)</th>\n",
       "      <th>Humidity</th>\n",
       "      <th>Wind Speed (km/h)</th>\n",
       "      <th>Wind Bearing (degrees)</th>\n",
       "      <th>Visibility (km)</th>\n",
       "      <th>Pressure (millibars)</th>\n",
       "      <th>Daily Summary</th>\n",
       "    </tr>\n",
       "  </thead>\n",
       "  <tbody>\n",
       "    <tr>\n",
       "      <th>0</th>\n",
       "      <td>Partly Cloudy</td>\n",
       "      <td>rain</td>\n",
       "      <td>0.577778</td>\n",
       "      <td>-4.050000</td>\n",
       "      <td>0.89</td>\n",
       "      <td>17.1143</td>\n",
       "      <td>140.0</td>\n",
       "      <td>9.9820</td>\n",
       "      <td>1016.66</td>\n",
       "      <td>Mostly cloudy throughout the day.</td>\n",
       "    </tr>\n",
       "    <tr>\n",
       "      <th>1</th>\n",
       "      <td>Mostly Cloudy</td>\n",
       "      <td>rain</td>\n",
       "      <td>1.161111</td>\n",
       "      <td>-3.238889</td>\n",
       "      <td>0.85</td>\n",
       "      <td>16.6152</td>\n",
       "      <td>139.0</td>\n",
       "      <td>9.9015</td>\n",
       "      <td>1016.15</td>\n",
       "      <td>Mostly cloudy throughout the day.</td>\n",
       "    </tr>\n",
       "    <tr>\n",
       "      <th>2</th>\n",
       "      <td>Mostly Cloudy</td>\n",
       "      <td>rain</td>\n",
       "      <td>1.666667</td>\n",
       "      <td>-3.155556</td>\n",
       "      <td>0.82</td>\n",
       "      <td>20.2538</td>\n",
       "      <td>140.0</td>\n",
       "      <td>9.9015</td>\n",
       "      <td>1015.87</td>\n",
       "      <td>Mostly cloudy throughout the day.</td>\n",
       "    </tr>\n",
       "    <tr>\n",
       "      <th>3</th>\n",
       "      <td>Overcast</td>\n",
       "      <td>rain</td>\n",
       "      <td>1.711111</td>\n",
       "      <td>-2.194444</td>\n",
       "      <td>0.82</td>\n",
       "      <td>14.4900</td>\n",
       "      <td>140.0</td>\n",
       "      <td>9.9015</td>\n",
       "      <td>1015.56</td>\n",
       "      <td>Mostly cloudy throughout the day.</td>\n",
       "    </tr>\n",
       "    <tr>\n",
       "      <th>4</th>\n",
       "      <td>Mostly Cloudy</td>\n",
       "      <td>rain</td>\n",
       "      <td>1.183333</td>\n",
       "      <td>-2.744444</td>\n",
       "      <td>0.86</td>\n",
       "      <td>13.9426</td>\n",
       "      <td>134.0</td>\n",
       "      <td>9.9015</td>\n",
       "      <td>1014.98</td>\n",
       "      <td>Mostly cloudy throughout the day.</td>\n",
       "    </tr>\n",
       "  </tbody>\n",
       "</table>\n",
       "</div>"
      ],
      "text/plain": [
       "         Summary Precip Type  Temperature (C)  Apparent Temperature (C)  \\\n",
       "0  Partly Cloudy        rain         0.577778                 -4.050000   \n",
       "1  Mostly Cloudy        rain         1.161111                 -3.238889   \n",
       "2  Mostly Cloudy        rain         1.666667                 -3.155556   \n",
       "3       Overcast        rain         1.711111                 -2.194444   \n",
       "4  Mostly Cloudy        rain         1.183333                 -2.744444   \n",
       "\n",
       "   Humidity  Wind Speed (km/h)  Wind Bearing (degrees)  Visibility (km)  \\\n",
       "0      0.89            17.1143                   140.0           9.9820   \n",
       "1      0.85            16.6152                   139.0           9.9015   \n",
       "2      0.82            20.2538                   140.0           9.9015   \n",
       "3      0.82            14.4900                   140.0           9.9015   \n",
       "4      0.86            13.9426                   134.0           9.9015   \n",
       "\n",
       "   Pressure (millibars)                      Daily Summary  \n",
       "0               1016.66  Mostly cloudy throughout the day.  \n",
       "1               1016.15  Mostly cloudy throughout the day.  \n",
       "2               1015.87  Mostly cloudy throughout the day.  \n",
       "3               1015.56  Mostly cloudy throughout the day.  \n",
       "4               1014.98  Mostly cloudy throughout the day.  "
      ]
     },
     "execution_count": 9,
     "metadata": {},
     "output_type": "execute_result"
    }
   ],
   "source": [
    "# We dont need 'Loud Cover' column, because it contains only zero\n",
    "df = df.drop(columns=['Formatted Date', 'Loud Cover'])\n",
    "df.head()"
   ]
  },
  {
   "cell_type": "markdown",
   "id": "f780bed7",
   "metadata": {},
   "source": [
    "## Handling Missing Values"
   ]
  },
  {
   "cell_type": "code",
   "execution_count": 10,
   "id": "4d71ea9f",
   "metadata": {
    "ExecuteTime": {
     "end_time": "2022-05-05T07:36:03.283691Z",
     "start_time": "2022-05-05T07:36:03.255526Z"
    }
   },
   "outputs": [
    {
     "data": {
      "text/plain": [
       "Summary                       0\n",
       "Precip Type                 517\n",
       "Temperature (C)               0\n",
       "Apparent Temperature (C)      0\n",
       "Humidity                      0\n",
       "Wind Speed (km/h)             0\n",
       "Wind Bearing (degrees)        0\n",
       "Visibility (km)               0\n",
       "Pressure (millibars)          0\n",
       "Daily Summary                 0\n",
       "dtype: int64"
      ]
     },
     "execution_count": 10,
     "metadata": {},
     "output_type": "execute_result"
    }
   ],
   "source": [
    "df.isnull().sum(axis=0)"
   ]
  },
  {
   "cell_type": "code",
   "execution_count": 11,
   "id": "43b71cc2",
   "metadata": {
    "ExecuteTime": {
     "end_time": "2022-05-05T07:36:03.299316Z",
     "start_time": "2022-05-05T07:36:03.284833Z"
    }
   },
   "outputs": [
    {
     "data": {
      "text/plain": [
       "array(['rain', 'snow', nan], dtype=object)"
      ]
     },
     "execution_count": 11,
     "metadata": {},
     "output_type": "execute_result"
    }
   ],
   "source": [
    "df['Precip Type'].unique()"
   ]
  },
  {
   "cell_type": "markdown",
   "id": "55bdc9f7",
   "metadata": {},
   "source": [
    "Here, in **Precip Type** coulmn we can observe 517 null values. As we can not predict whether the value is **rain** or **snow**, it's better to drop all the rows having null values."
   ]
  },
  {
   "cell_type": "code",
   "execution_count": 12,
   "id": "35bb4331",
   "metadata": {
    "ExecuteTime": {
     "end_time": "2022-05-05T07:36:03.330913Z",
     "start_time": "2022-05-05T07:36:03.302562Z"
    }
   },
   "outputs": [
    {
     "name": "stdout",
     "output_type": "stream",
     "text": [
      "(95912, 10)\n"
     ]
    }
   ],
   "source": [
    "df = df[df['Precip Type'].notna()]\n",
    "print(df.shape)"
   ]
  },
  {
   "cell_type": "markdown",
   "id": "8cfa90be",
   "metadata": {},
   "source": [
    "## Checking Outliers"
   ]
  },
  {
   "cell_type": "markdown",
   "id": "d1c10020",
   "metadata": {},
   "source": [
    "To check the outliers, we are going to draw boxplots diagram for each of the numeric column."
   ]
  },
  {
   "cell_type": "code",
   "execution_count": 13,
   "id": "e72a6bd0",
   "metadata": {
    "ExecuteTime": {
     "end_time": "2022-05-05T07:36:04.132081Z",
     "start_time": "2022-05-05T07:36:03.332909Z"
    }
   },
   "outputs": [
    {
     "data": {
      "image/png": "[encoded data removed]",
      "text/plain": [
       "<Figure size 1224x72 with 1 Axes>"
      ]
     },
     "metadata": {
      "needs_background": "light"
     },
     "output_type": "display_data"
    },
    {
     "data": {
      "image/png": "[encoded data removed]",
      "text/plain": [
       "<Figure size 1224x72 with 1 Axes>"
      ]
     },
     "metadata": {
      "needs_background": "light"
     },
     "output_type": "display_data"
    },
    {
     "data": {
      "image/png": "[encoded data removed]",
      "text/plain": [
       "<Figure size 1224x72 with 1 Axes>"
      ]
     },
     "metadata": {
      "needs_background": "light"
     },
     "output_type": "display_data"
    },
    {
     "data": {
      "image/png": "[encoded data removed]",
      "text/plain": [
       "<Figure size 1224x72 with 1 Axes>"
      ]
     },
     "metadata": {
      "needs_background": "light"
     },
     "output_type": "display_data"
    },
    {
     "data": {
      "image/png": "[encoded data removed]",
      "text/plain": [
       "<Figure size 1224x72 with 1 Axes>"
      ]
     },
     "metadata": {
      "needs_background": "light"
     },
     "output_type": "display_data"
    },
    {
     "data": {
      "image/png": "[encoded data removed]",
      "text/plain": [
       "<Figure size 1224x72 with 1 Axes>"
      ]
     },
     "metadata": {
      "needs_background": "light"
     },
     "output_type": "display_data"
    },
    {
     "data": {
      "image/png": "[encoded data removed]",
      "text/plain": [
       "<Figure size 1224x72 with 1 Axes>"
      ]
     },
     "metadata": {
      "needs_background": "light"
     },
     "output_type": "display_data"
    }
   ],
   "source": [
    "df1=df.select_dtypes(exclude=['object'])\n",
    "\n",
    "for column in df1:\n",
    "        plt.figure(figsize=(17,1))\n",
    "        sns.boxplot(data=df1, x=column)"
   ]
  },
  {
   "cell_type": "markdown",
   "id": "d8b76e7b",
   "metadata": {},
   "source": [
    "We can observe outliers in **Humidity**, and **Pressure** columns. In **Wind Speed** column we can see some values which are more than 60 km/h (not sure whether it can be outlier or not :/ )\n",
    "\n",
    "We are dropping those rows where the value of **Humidity** and **Pressure** is equals to zero. "
   ]
  },
  {
   "cell_type": "code",
   "execution_count": 14,
   "id": "bd8774fc",
   "metadata": {
    "ExecuteTime": {
     "end_time": "2022-05-05T07:36:04.163719Z",
     "start_time": "2022-05-05T07:36:04.133074Z"
    }
   },
   "outputs": [
    {
     "name": "stdout",
     "output_type": "stream",
     "text": [
      "(94602, 10)\n"
     ]
    }
   ],
   "source": [
    "df = df[df['Humidity'] != 0.0]\n",
    "df = df[df['Pressure (millibars)'] != 0]\n",
    "df.reset_index(inplace=True, drop=True)\n",
    "print(df.shape)"
   ]
  },
  {
   "cell_type": "markdown",
   "id": "b17e1c7b",
   "metadata": {},
   "source": [
    "## Looking for correlateions"
   ]
  },
  {
   "cell_type": "code",
   "execution_count": 15,
   "id": "1e87a681",
   "metadata": {
    "ExecuteTime": {
     "end_time": "2022-05-05T07:36:04.194994Z",
     "start_time": "2022-05-05T07:36:04.166750Z"
    }
   },
   "outputs": [
    {
     "data": {
      "text/plain": [
       "Apparent Temperature (C)    1.000000\n",
       "Temperature (C)             0.992657\n",
       "Visibility (km)             0.381814\n",
       "Wind Bearing (degrees)      0.029409\n",
       "Wind Speed (km/h)          -0.055726\n",
       "Pressure (millibars)       -0.287609\n",
       "Humidity                   -0.607162\n",
       "Name: Apparent Temperature (C), dtype: float64"
      ]
     },
     "execution_count": 15,
     "metadata": {},
     "output_type": "execute_result"
    }
   ],
   "source": [
    "corr_matrix = df.corr()\n",
    "corr_matrix[\"Apparent Temperature (C)\"].sort_values(ascending=False)"
   ]
  },
  {
   "cell_type": "markdown",
   "id": "d13e5fba",
   "metadata": {},
   "source": [
    "## Create a Test Set"
   ]
  },
  {
   "cell_type": "markdown",
   "id": "8e1b7200",
   "metadata": {
    "ExecuteTime": {
     "end_time": "2022-04-26T10:38:24.999340Z",
     "start_time": "2022-04-26T10:38:24.980979Z"
    }
   },
   "source": [
    "We will apply Stratified Shuffle Split here. This cross-validation object is a merge of StratifiedKFold and ShuffleSplit, which returns stratified randomized folds. The folds are made by preserving the percentage of samples for each class."
   ]
  },
  {
   "cell_type": "code",
   "execution_count": 16,
   "id": "8f2afbbd",
   "metadata": {
    "ExecuteTime": {
     "end_time": "2022-05-05T07:36:04.226842Z",
     "start_time": "2022-05-05T07:36:04.196977Z"
    }
   },
   "outputs": [
    {
     "data": {
      "text/html": [
       "<div>\n",
       "<style scoped>\n",
       "    .dataframe tbody tr th:only-of-type {\n",
       "        vertical-align: middle;\n",
       "    }\n",
       "\n",
       "    .dataframe tbody tr th {\n",
       "        vertical-align: top;\n",
       "    }\n",
       "\n",
       "    .dataframe thead th {\n",
       "        text-align: right;\n",
       "    }\n",
       "</style>\n",
       "<table border=\"1\" class=\"dataframe\">\n",
       "  <thead>\n",
       "    <tr style=\"text-align: right;\">\n",
       "      <th></th>\n",
       "      <th>Summary</th>\n",
       "      <th>Precip Type</th>\n",
       "      <th>Temperature (C)</th>\n",
       "      <th>Apparent Temperature (C)</th>\n",
       "      <th>Humidity</th>\n",
       "      <th>Wind Speed (km/h)</th>\n",
       "      <th>Wind Bearing (degrees)</th>\n",
       "      <th>Visibility (km)</th>\n",
       "      <th>Pressure (millibars)</th>\n",
       "      <th>Daily Summary</th>\n",
       "    </tr>\n",
       "  </thead>\n",
       "  <tbody>\n",
       "    <tr>\n",
       "      <th>0</th>\n",
       "      <td>Partly Cloudy</td>\n",
       "      <td>rain</td>\n",
       "      <td>0.577778</td>\n",
       "      <td>-4.050000</td>\n",
       "      <td>0.89</td>\n",
       "      <td>17.1143</td>\n",
       "      <td>140.0</td>\n",
       "      <td>9.9820</td>\n",
       "      <td>1016.66</td>\n",
       "      <td>Mostly cloudy throughout the day.</td>\n",
       "    </tr>\n",
       "    <tr>\n",
       "      <th>1</th>\n",
       "      <td>Mostly Cloudy</td>\n",
       "      <td>rain</td>\n",
       "      <td>1.161111</td>\n",
       "      <td>-3.238889</td>\n",
       "      <td>0.85</td>\n",
       "      <td>16.6152</td>\n",
       "      <td>139.0</td>\n",
       "      <td>9.9015</td>\n",
       "      <td>1016.15</td>\n",
       "      <td>Mostly cloudy throughout the day.</td>\n",
       "    </tr>\n",
       "    <tr>\n",
       "      <th>2</th>\n",
       "      <td>Mostly Cloudy</td>\n",
       "      <td>rain</td>\n",
       "      <td>1.666667</td>\n",
       "      <td>-3.155556</td>\n",
       "      <td>0.82</td>\n",
       "      <td>20.2538</td>\n",
       "      <td>140.0</td>\n",
       "      <td>9.9015</td>\n",
       "      <td>1015.87</td>\n",
       "      <td>Mostly cloudy throughout the day.</td>\n",
       "    </tr>\n",
       "    <tr>\n",
       "      <th>3</th>\n",
       "      <td>Overcast</td>\n",
       "      <td>rain</td>\n",
       "      <td>1.711111</td>\n",
       "      <td>-2.194444</td>\n",
       "      <td>0.82</td>\n",
       "      <td>14.4900</td>\n",
       "      <td>140.0</td>\n",
       "      <td>9.9015</td>\n",
       "      <td>1015.56</td>\n",
       "      <td>Mostly cloudy throughout the day.</td>\n",
       "    </tr>\n",
       "    <tr>\n",
       "      <th>4</th>\n",
       "      <td>Mostly Cloudy</td>\n",
       "      <td>rain</td>\n",
       "      <td>1.183333</td>\n",
       "      <td>-2.744444</td>\n",
       "      <td>0.86</td>\n",
       "      <td>13.9426</td>\n",
       "      <td>134.0</td>\n",
       "      <td>9.9015</td>\n",
       "      <td>1014.98</td>\n",
       "      <td>Mostly cloudy throughout the day.</td>\n",
       "    </tr>\n",
       "  </tbody>\n",
       "</table>\n",
       "</div>"
      ],
      "text/plain": [
       "         Summary Precip Type  Temperature (C)  Apparent Temperature (C)  \\\n",
       "0  Partly Cloudy        rain         0.577778                 -4.050000   \n",
       "1  Mostly Cloudy        rain         1.161111                 -3.238889   \n",
       "2  Mostly Cloudy        rain         1.666667                 -3.155556   \n",
       "3       Overcast        rain         1.711111                 -2.194444   \n",
       "4  Mostly Cloudy        rain         1.183333                 -2.744444   \n",
       "\n",
       "   Humidity  Wind Speed (km/h)  Wind Bearing (degrees)  Visibility (km)  \\\n",
       "0      0.89            17.1143                   140.0           9.9820   \n",
       "1      0.85            16.6152                   139.0           9.9015   \n",
       "2      0.82            20.2538                   140.0           9.9015   \n",
       "3      0.82            14.4900                   140.0           9.9015   \n",
       "4      0.86            13.9426                   134.0           9.9015   \n",
       "\n",
       "   Pressure (millibars)                      Daily Summary  \n",
       "0               1016.66  Mostly cloudy throughout the day.  \n",
       "1               1016.15  Mostly cloudy throughout the day.  \n",
       "2               1015.87  Mostly cloudy throughout the day.  \n",
       "3               1015.56  Mostly cloudy throughout the day.  \n",
       "4               1014.98  Mostly cloudy throughout the day.  "
      ]
     },
     "execution_count": 16,
     "metadata": {},
     "output_type": "execute_result"
    }
   ],
   "source": [
    "df.head()"
   ]
  },
  {
   "cell_type": "code",
   "execution_count": 18,
   "id": "71452aca",
   "metadata": {
    "ExecuteTime": {
     "end_time": "2022-05-05T07:36:04.432259Z",
     "start_time": "2022-05-05T07:36:04.228837Z"
    }
   },
   "outputs": [
    {
     "data": {
      "text/plain": [
       "<AxesSubplot:>"
      ]
     },
     "execution_count": 18,
     "metadata": {},
     "output_type": "execute_result"
    },
    {
     "data": {
      "image/png": "[encoded data removed]",
      "text/plain": [
       "<Figure size 432x288 with 1 Axes>"
      ]
     },
     "metadata": {
      "needs_background": "light"
     },
     "output_type": "display_data"
    }
   ],
   "source": [
    "df[\"Apparent Temperature (C)\"].hist()"
   ]
  },
  {
   "cell_type": "code",
   "execution_count": 19,
   "id": "e702a180",
   "metadata": {
    "ExecuteTime": {
     "end_time": "2022-05-05T07:36:04.462838Z",
     "start_time": "2022-05-05T07:36:04.434660Z"
    }
   },
   "outputs": [],
   "source": [
    "df[\"temp_cat\"] = pd.cut(df[\"Apparent Temperature (C)\"],\n",
    "                               bins=[-np.inf, 0, 10, 20, np.inf],\n",
    "                               labels=[1, 2, 3, 4])"
   ]
  },
  {
   "cell_type": "code",
   "execution_count": 20,
   "id": "bfb1ea8e",
   "metadata": {
    "ExecuteTime": {
     "end_time": "2022-05-05T07:36:04.478783Z",
     "start_time": "2022-05-05T07:36:04.464831Z"
    }
   },
   "outputs": [
    {
     "data": {
      "text/plain": [
       "3    32676\n",
       "2    24051\n",
       "4    20128\n",
       "1    17747\n",
       "Name: temp_cat, dtype: int64"
      ]
     },
     "execution_count": 20,
     "metadata": {},
     "output_type": "execute_result"
    }
   ],
   "source": [
    "df[\"temp_cat\"].value_counts()"
   ]
  },
  {
   "cell_type": "code",
   "execution_count": 21,
   "id": "08c5a0dd",
   "metadata": {
    "ExecuteTime": {
     "end_time": "2022-05-05T07:36:04.793602Z",
     "start_time": "2022-05-05T07:36:04.481178Z"
    }
   },
   "outputs": [
    {
     "data": {
      "text/plain": [
       "<AxesSubplot:>"
      ]
     },
     "execution_count": 21,
     "metadata": {},
     "output_type": "execute_result"
    },
    {
     "data": {
      "image/png": "[encoded data removed]",
      "text/plain": [
       "<Figure size 432x288 with 1 Axes>"
      ]
     },
     "metadata": {
      "needs_background": "light"
     },
     "output_type": "display_data"
    }
   ],
   "source": [
    "df[\"temp_cat\"].hist()"
   ]
  },
  {
   "cell_type": "code",
   "execution_count": 22,
   "id": "ddc1f0ee",
   "metadata": {
    "ExecuteTime": {
     "end_time": "2022-05-05T07:36:04.887006Z",
     "start_time": "2022-05-05T07:36:04.795641Z"
    }
   },
   "outputs": [],
   "source": [
    "split = StratifiedShuffleSplit(n_splits=1, test_size=0.2, random_state=42)\n",
    "for train_index, test_index in split.split(df, df[\"temp_cat\"]):\n",
    "    strat_train_set = df.loc[train_index]\n",
    "    strat_test_set = df.loc[test_index]"
   ]
  },
  {
   "cell_type": "code",
   "execution_count": 23,
   "id": "7397b61a",
   "metadata": {
    "ExecuteTime": {
     "end_time": "2022-05-05T07:36:04.903034Z",
     "start_time": "2022-05-05T07:36:04.888990Z"
    }
   },
   "outputs": [
    {
     "data": {
      "text/plain": [
       "3    0.345383\n",
       "2    0.254215\n",
       "4    0.212779\n",
       "1    0.187622\n",
       "Name: temp_cat, dtype: float64"
      ]
     },
     "execution_count": 23,
     "metadata": {},
     "output_type": "execute_result"
    }
   ],
   "source": [
    "strat_test_set[\"temp_cat\"].value_counts() / len(strat_test_set)"
   ]
  },
  {
   "cell_type": "code",
   "execution_count": 24,
   "id": "51d6f3e8",
   "metadata": {
    "ExecuteTime": {
     "end_time": "2022-05-05T07:36:04.918248Z",
     "start_time": "2022-05-05T07:36:04.905027Z"
    }
   },
   "outputs": [
    {
     "data": {
      "text/plain": [
       "3    0.345405\n",
       "2    0.254234\n",
       "4    0.212765\n",
       "1    0.187596\n",
       "Name: temp_cat, dtype: float64"
      ]
     },
     "execution_count": 24,
     "metadata": {},
     "output_type": "execute_result"
    }
   ],
   "source": [
    "df[\"temp_cat\"].value_counts() / len(df)"
   ]
  },
  {
   "cell_type": "code",
   "execution_count": 25,
   "id": "f0232734",
   "metadata": {
    "ExecuteTime": {
     "end_time": "2022-05-05T07:36:04.949904Z",
     "start_time": "2022-05-05T07:36:04.923230Z"
    }
   },
   "outputs": [],
   "source": [
    "for set_ in (strat_train_set, strat_test_set):\n",
    "    set_.drop(\"temp_cat\", axis=1, inplace=True)"
   ]
  },
  {
   "cell_type": "code",
   "execution_count": 26,
   "id": "9a0c7763",
   "metadata": {
    "ExecuteTime": {
     "end_time": "2022-05-05T07:36:04.981146Z",
     "start_time": "2022-05-05T07:36:04.952902Z"
    }
   },
   "outputs": [
    {
     "data": {
      "text/html": [
       "<div>\n",
       "<style scoped>\n",
       "    .dataframe tbody tr th:only-of-type {\n",
       "        vertical-align: middle;\n",
       "    }\n",
       "\n",
       "    .dataframe tbody tr th {\n",
       "        vertical-align: top;\n",
       "    }\n",
       "\n",
       "    .dataframe thead th {\n",
       "        text-align: right;\n",
       "    }\n",
       "</style>\n",
       "<table border=\"1\" class=\"dataframe\">\n",
       "  <thead>\n",
       "    <tr style=\"text-align: right;\">\n",
       "      <th></th>\n",
       "      <th>Summary</th>\n",
       "      <th>Precip Type</th>\n",
       "      <th>Temperature (C)</th>\n",
       "      <th>Apparent Temperature (C)</th>\n",
       "      <th>Humidity</th>\n",
       "      <th>Wind Speed (km/h)</th>\n",
       "      <th>Wind Bearing (degrees)</th>\n",
       "      <th>Visibility (km)</th>\n",
       "      <th>Pressure (millibars)</th>\n",
       "      <th>Daily Summary</th>\n",
       "    </tr>\n",
       "  </thead>\n",
       "  <tbody>\n",
       "    <tr>\n",
       "      <th>16265</th>\n",
       "      <td>Mostly Cloudy</td>\n",
       "      <td>rain</td>\n",
       "      <td>12.361111</td>\n",
       "      <td>12.361111</td>\n",
       "      <td>0.66</td>\n",
       "      <td>4.6046</td>\n",
       "      <td>190.0</td>\n",
       "      <td>8.0500</td>\n",
       "      <td>1020.99</td>\n",
       "      <td>Foggy starting in the evening.</td>\n",
       "    </tr>\n",
       "    <tr>\n",
       "      <th>13080</th>\n",
       "      <td>Partly Cloudy</td>\n",
       "      <td>rain</td>\n",
       "      <td>12.827778</td>\n",
       "      <td>12.827778</td>\n",
       "      <td>0.85</td>\n",
       "      <td>6.1985</td>\n",
       "      <td>323.0</td>\n",
       "      <td>14.9569</td>\n",
       "      <td>1013.11</td>\n",
       "      <td>Mostly cloudy until night.</td>\n",
       "    </tr>\n",
       "    <tr>\n",
       "      <th>25046</th>\n",
       "      <td>Clear</td>\n",
       "      <td>snow</td>\n",
       "      <td>-1.661111</td>\n",
       "      <td>-4.083333</td>\n",
       "      <td>0.88</td>\n",
       "      <td>6.4078</td>\n",
       "      <td>132.0</td>\n",
       "      <td>6.2951</td>\n",
       "      <td>1027.80</td>\n",
       "      <td>Mostly cloudy starting overnight continuing un...</td>\n",
       "    </tr>\n",
       "    <tr>\n",
       "      <th>39049</th>\n",
       "      <td>Partly Cloudy</td>\n",
       "      <td>rain</td>\n",
       "      <td>27.200000</td>\n",
       "      <td>28.316667</td>\n",
       "      <td>0.60</td>\n",
       "      <td>12.3970</td>\n",
       "      <td>353.0</td>\n",
       "      <td>11.2056</td>\n",
       "      <td>1018.02</td>\n",
       "      <td>Partly cloudy starting in the morning continui...</td>\n",
       "    </tr>\n",
       "    <tr>\n",
       "      <th>42429</th>\n",
       "      <td>Foggy</td>\n",
       "      <td>rain</td>\n",
       "      <td>0.900000</td>\n",
       "      <td>0.900000</td>\n",
       "      <td>0.99</td>\n",
       "      <td>1.6744</td>\n",
       "      <td>144.0</td>\n",
       "      <td>1.8032</td>\n",
       "      <td>1008.41</td>\n",
       "      <td>Partly cloudy throughout the day.</td>\n",
       "    </tr>\n",
       "  </tbody>\n",
       "</table>\n",
       "</div>"
      ],
      "text/plain": [
       "             Summary Precip Type  Temperature (C)  Apparent Temperature (C)  \\\n",
       "16265  Mostly Cloudy        rain        12.361111                 12.361111   \n",
       "13080  Partly Cloudy        rain        12.827778                 12.827778   \n",
       "25046          Clear        snow        -1.661111                 -4.083333   \n",
       "39049  Partly Cloudy        rain        27.200000                 28.316667   \n",
       "42429          Foggy        rain         0.900000                  0.900000   \n",
       "\n",
       "       Humidity  Wind Speed (km/h)  Wind Bearing (degrees)  Visibility (km)  \\\n",
       "16265      0.66             4.6046                   190.0           8.0500   \n",
       "13080      0.85             6.1985                   323.0          14.9569   \n",
       "25046      0.88             6.4078                   132.0           6.2951   \n",
       "39049      0.60            12.3970                   353.0          11.2056   \n",
       "42429      0.99             1.6744                   144.0           1.8032   \n",
       "\n",
       "       Pressure (millibars)                                      Daily Summary  \n",
       "16265               1020.99                     Foggy starting in the evening.  \n",
       "13080               1013.11                         Mostly cloudy until night.  \n",
       "25046               1027.80  Mostly cloudy starting overnight continuing un...  \n",
       "39049               1018.02  Partly cloudy starting in the morning continui...  \n",
       "42429               1008.41                  Partly cloudy throughout the day.  "
      ]
     },
     "execution_count": 26,
     "metadata": {},
     "output_type": "execute_result"
    }
   ],
   "source": [
    "strat_train_set.head()"
   ]
  },
  {
   "cell_type": "code",
   "execution_count": 27,
   "id": "e172e1c0",
   "metadata": {
    "ExecuteTime": {
     "end_time": "2022-05-05T07:36:05.011928Z",
     "start_time": "2022-05-05T07:36:04.985068Z"
    }
   },
   "outputs": [],
   "source": [
    "df_train = strat_train_set.drop(\"Apparent Temperature (C)\", axis=1) # drop labels for training set\n",
    "df_train_labels = strat_train_set[\"Apparent Temperature (C)\"].copy()"
   ]
  },
  {
   "cell_type": "markdown",
   "id": "51a8dab6",
   "metadata": {},
   "source": [
    "# Visualize the Data"
   ]
  },
  {
   "cell_type": "code",
   "execution_count": 28,
   "id": "e20e9fc8",
   "metadata": {
    "ExecuteTime": {
     "end_time": "2022-05-05T07:36:06.509072Z",
     "start_time": "2022-05-05T07:36:05.013923Z"
    }
   },
   "outputs": [
    {
     "data": {
      "image/png": "[encoded data removed]",
      "text/plain": [
       "<Figure size 1008x576 with 6 Axes>"
      ]
     },
     "metadata": {
      "needs_background": "light"
     },
     "output_type": "display_data"
    }
   ],
   "source": [
    "df_train.hist(bins=50, figsize=(14,8))\n",
    "plt.show()"
   ]
  },
  {
   "cell_type": "markdown",
   "id": "5eba7813",
   "metadata": {},
   "source": [
    "We can observe that **Humidity** is left skewed and **Wind Speed** is right skewed data"
   ]
  },
  {
   "cell_type": "code",
   "execution_count": 29,
   "id": "76aee354",
   "metadata": {
    "ExecuteTime": {
     "end_time": "2022-05-05T07:36:06.524720Z",
     "start_time": "2022-05-05T07:36:06.512755Z"
    }
   },
   "outputs": [],
   "source": [
    "# Scatter plot"
   ]
  },
  {
   "cell_type": "markdown",
   "id": "be67aaef",
   "metadata": {},
   "source": [
    "# Data Transformation"
   ]
  },
  {
   "cell_type": "code",
   "execution_count": 30,
   "id": "5d7e7c17",
   "metadata": {
    "ExecuteTime": {
     "end_time": "2022-05-05T07:36:06.540657Z",
     "start_time": "2022-05-05T07:36:06.526705Z"
    }
   },
   "outputs": [
    {
     "data": {
      "text/plain": [
       "(75681, 9)"
      ]
     },
     "execution_count": 30,
     "metadata": {},
     "output_type": "execute_result"
    }
   ],
   "source": [
    "df_train.shape"
   ]
  },
  {
   "cell_type": "markdown",
   "id": "ffe4b4d9",
   "metadata": {
    "ExecuteTime": {
     "end_time": "2022-04-19T12:00:12.682275Z",
     "start_time": "2022-04-19T12:00:12.602514Z"
    }
   },
   "source": [
    "- https://heartbeat.comet.ml/hands-on-with-feature-engineering-techniques-transforming-variables-acea03472e24\n",
    "\n",
    "**Square root transformation:** It is used for reducing right-skewed distributions. Advantage of square root transformation is that you can apply it to zero values. This function is defined only for positive numbers. As for **Wind Speed**, we found right skewed distributions, we are going to apply square root transformation for this column.\n",
    "\n",
    "**Exponential or Power transformation:** Power transformation has a reasonable effect on distribution shape; generally, we apply power transformation (power of two usually) to reduce left skewness. That is why, we are going to apply this transformation on **Humidity** column."
   ]
  },
  {
   "cell_type": "markdown",
   "id": "b4b28bb9",
   "metadata": {},
   "source": [
    "We can apply above transformation for these two columns, following is the code for that (commented out). \n",
    "\n",
    "But, we will apply Standard scaler for all the features here and observe how it works :)"
   ]
  },
  {
   "cell_type": "code",
   "execution_count": 31,
   "id": "a9c603b3",
   "metadata": {
    "ExecuteTime": {
     "end_time": "2022-05-05T07:36:06.556605Z",
     "start_time": "2022-05-05T07:36:06.542652Z"
    }
   },
   "outputs": [],
   "source": [
    "# squre root transformation for 'Wind Speed'\n",
    "\n",
    "# create the function transformer object with square root transformation\n",
    "# sqrt_transformer = FunctionTransformer(np.sqrt, validate=True)\n",
    "\n",
    "# apply the transformation to your data\n",
    "# data_new = sqrt_transformer.transform(df_train[[\"Wind Speed (km/h)\"]])\n",
    "# df_train['Wind Speed transformed'] = data_new\n",
    "\n",
    "\n",
    "# power transformation with power of 2 for 'Humidity'\n",
    "\n",
    "# create the function transformer object with cubic root transformation\n",
    "# sqrt_transformer = FunctionTransformer(lambda x: x**3, validate=True)\n",
    "\n",
    "# apply the transformation to your data\n",
    "# data_new = sqrt_transformer.transform(df_train[[\"Humidity\"]])\n",
    "# df_train['Humidity transformed'] = data_new\n"
   ]
  },
  {
   "cell_type": "markdown",
   "id": "64cc4b02",
   "metadata": {},
   "source": [
    "## Handling Text and Categorical Attributes"
   ]
  },
  {
   "cell_type": "code",
   "execution_count": 32,
   "id": "69d4252b",
   "metadata": {
    "ExecuteTime": {
     "end_time": "2022-05-05T07:36:06.588288Z",
     "start_time": "2022-05-05T07:36:06.558599Z"
    }
   },
   "outputs": [
    {
     "data": {
      "text/plain": [
       "rain    67269\n",
       "snow     8412\n",
       "Name: Precip Type, dtype: int64"
      ]
     },
     "execution_count": 32,
     "metadata": {},
     "output_type": "execute_result"
    }
   ],
   "source": [
    "df_train[\"Precip Type\"].value_counts()"
   ]
  },
  {
   "cell_type": "code",
   "execution_count": 33,
   "id": "da99bc33",
   "metadata": {
    "ExecuteTime": {
     "end_time": "2022-05-05T07:36:06.618747Z",
     "start_time": "2022-05-05T07:36:06.590701Z"
    }
   },
   "outputs": [
    {
     "data": {
      "text/plain": [
       "25"
      ]
     },
     "execution_count": 33,
     "metadata": {},
     "output_type": "execute_result"
    }
   ],
   "source": [
    "df_train[\"Summary\"].nunique()"
   ]
  },
  {
   "cell_type": "code",
   "execution_count": 34,
   "id": "bd3199a7",
   "metadata": {
    "ExecuteTime": {
     "end_time": "2022-05-05T07:36:06.649851Z",
     "start_time": "2022-05-05T07:36:06.621737Z"
    }
   },
   "outputs": [
    {
     "data": {
      "text/plain": [
       "214"
      ]
     },
     "execution_count": 34,
     "metadata": {},
     "output_type": "execute_result"
    }
   ],
   "source": [
    "df_train[\"Daily Summary\"].nunique()"
   ]
  },
  {
   "cell_type": "markdown",
   "id": "40c3baf9",
   "metadata": {},
   "source": [
    "‘Precip Type’ had two unique values as rain and snow, which has been encoded to 0 and 1. ‘Summary’ column had 26 unique values, which has been converted to 25 additional rows are added after performing one-hot encoding. ‘Daily Summary’ column had 214 unique values, which has been converted to 214 additional rows are added after performing one-hot encoding."
   ]
  },
  {
   "cell_type": "markdown",
   "id": "a1705deb",
   "metadata": {},
   "source": [
    "We will also check the model accuracy by removing **Summary** and **Daily Summary** variables and observe how it works"
   ]
  },
  {
   "cell_type": "markdown",
   "id": "4dde58ea",
   "metadata": {},
   "source": [
    "## Transformation Pipelines"
   ]
  },
  {
   "cell_type": "markdown",
   "id": "84772dd6",
   "metadata": {},
   "source": [
    "Now let's build a pipeline for preprocessing the numerical attributes:"
   ]
  },
  {
   "cell_type": "code",
   "execution_count": 35,
   "id": "85f769c9",
   "metadata": {
    "ExecuteTime": {
     "end_time": "2022-05-05T07:36:06.681345Z",
     "start_time": "2022-05-05T07:36:06.650844Z"
    }
   },
   "outputs": [
    {
     "data": {
      "text/html": [
       "<div>\n",
       "<style scoped>\n",
       "    .dataframe tbody tr th:only-of-type {\n",
       "        vertical-align: middle;\n",
       "    }\n",
       "\n",
       "    .dataframe tbody tr th {\n",
       "        vertical-align: top;\n",
       "    }\n",
       "\n",
       "    .dataframe thead th {\n",
       "        text-align: right;\n",
       "    }\n",
       "</style>\n",
       "<table border=\"1\" class=\"dataframe\">\n",
       "  <thead>\n",
       "    <tr style=\"text-align: right;\">\n",
       "      <th></th>\n",
       "      <th>Temperature (C)</th>\n",
       "      <th>Humidity</th>\n",
       "      <th>Wind Speed (km/h)</th>\n",
       "      <th>Wind Bearing (degrees)</th>\n",
       "      <th>Visibility (km)</th>\n",
       "      <th>Pressure (millibars)</th>\n",
       "    </tr>\n",
       "  </thead>\n",
       "  <tbody>\n",
       "    <tr>\n",
       "      <th>16265</th>\n",
       "      <td>12.361111</td>\n",
       "      <td>0.66</td>\n",
       "      <td>4.6046</td>\n",
       "      <td>190.0</td>\n",
       "      <td>8.0500</td>\n",
       "      <td>1020.99</td>\n",
       "    </tr>\n",
       "    <tr>\n",
       "      <th>13080</th>\n",
       "      <td>12.827778</td>\n",
       "      <td>0.85</td>\n",
       "      <td>6.1985</td>\n",
       "      <td>323.0</td>\n",
       "      <td>14.9569</td>\n",
       "      <td>1013.11</td>\n",
       "    </tr>\n",
       "    <tr>\n",
       "      <th>25046</th>\n",
       "      <td>-1.661111</td>\n",
       "      <td>0.88</td>\n",
       "      <td>6.4078</td>\n",
       "      <td>132.0</td>\n",
       "      <td>6.2951</td>\n",
       "      <td>1027.80</td>\n",
       "    </tr>\n",
       "    <tr>\n",
       "      <th>39049</th>\n",
       "      <td>27.200000</td>\n",
       "      <td>0.60</td>\n",
       "      <td>12.3970</td>\n",
       "      <td>353.0</td>\n",
       "      <td>11.2056</td>\n",
       "      <td>1018.02</td>\n",
       "    </tr>\n",
       "    <tr>\n",
       "      <th>42429</th>\n",
       "      <td>0.900000</td>\n",
       "      <td>0.99</td>\n",
       "      <td>1.6744</td>\n",
       "      <td>144.0</td>\n",
       "      <td>1.8032</td>\n",
       "      <td>1008.41</td>\n",
       "    </tr>\n",
       "  </tbody>\n",
       "</table>\n",
       "</div>"
      ],
      "text/plain": [
       "       Temperature (C)  Humidity  Wind Speed (km/h)  Wind Bearing (degrees)  \\\n",
       "16265        12.361111      0.66             4.6046                   190.0   \n",
       "13080        12.827778      0.85             6.1985                   323.0   \n",
       "25046        -1.661111      0.88             6.4078                   132.0   \n",
       "39049        27.200000      0.60            12.3970                   353.0   \n",
       "42429         0.900000      0.99             1.6744                   144.0   \n",
       "\n",
       "       Visibility (km)  Pressure (millibars)  \n",
       "16265           8.0500               1020.99  \n",
       "13080          14.9569               1013.11  \n",
       "25046           6.2951               1027.80  \n",
       "39049          11.2056               1018.02  \n",
       "42429           1.8032               1008.41  "
      ]
     },
     "execution_count": 35,
     "metadata": {},
     "output_type": "execute_result"
    }
   ],
   "source": [
    "df_train_num = df_train.select_dtypes(include=[np.number])\n",
    "df_train_num.head()"
   ]
  },
  {
   "cell_type": "code",
   "execution_count": 36,
   "id": "9aebcedc",
   "metadata": {
    "ExecuteTime": {
     "end_time": "2022-05-05T07:36:06.821730Z",
     "start_time": "2022-05-05T07:36:06.684380Z"
    }
   },
   "outputs": [
    {
     "data": {
      "text/plain": [
       "(75681, 9)"
      ]
     },
     "execution_count": 36,
     "metadata": {},
     "output_type": "execute_result"
    }
   ],
   "source": [
    "from sklearn.pipeline import Pipeline\n",
    "from sklearn.preprocessing import StandardScaler\n",
    "from sklearn.compose import ColumnTransformer\n",
    "from sklearn.preprocessing import OrdinalEncoder\n",
    "\n",
    "\n",
    "num_attribs = list(df_train_num)\n",
    "cat_attribs = [\"Precip Type\", \"Summary\", \"Daily Summary\"]\n",
    "\n",
    "\n",
    "num_pipeline = Pipeline([\n",
    "        ('std_scaler', StandardScaler()),\n",
    "    ])\n",
    "\n",
    "\n",
    "full_pipeline = ColumnTransformer([\n",
    "        (\"num\", num_pipeline, num_attribs),\n",
    "        (\"cat\", OrdinalEncoder(), cat_attribs),\n",
    "    ])\n",
    "\n",
    "df_train_prepared = full_pipeline.fit_transform(df_train)\n",
    "df_train_prepared.shape"
   ]
  },
  {
   "cell_type": "code",
   "execution_count": 37,
   "id": "72a066e8",
   "metadata": {
    "ExecuteTime": {
     "end_time": "2022-05-05T07:36:06.837726Z",
     "start_time": "2022-05-05T07:36:06.823425Z"
    }
   },
   "outputs": [
    {
     "data": {
      "text/plain": [
       "array([[ 4.18134181e-02, -3.83886779e-01, -8.93944600e-01, ...,\n",
       "         0.00000000e+00,  1.60000000e+01,  4.30000000e+01],\n",
       "       [ 9.06247357e-02,  5.88091266e-01, -6.62835579e-01, ...,\n",
       "         0.00000000e+00,  1.80000000e+01,  1.32000000e+02],\n",
       "       [-1.42485046e+00,  7.41561484e-01, -6.32487930e-01, ...,\n",
       "         1.00000000e+00,  5.00000000e+00,  9.10000000e+01],\n",
       "       ...,\n",
       "       [-1.55036527e+00, -1.20239461e+00, -7.23530877e-01, ...,\n",
       "         1.00000000e+00,  1.60000000e+01,  1.11000000e+02],\n",
       "       [ 3.17829797e-01,  9.97345180e-01, -1.09470597e+00, ...,\n",
       "         0.00000000e+00,  1.70000000e+01,  1.11000000e+02],\n",
       "       [ 1.14449307e-01,  7.92718223e-01, -1.19742109e+00, ...,\n",
       "         0.00000000e+00,  1.70000000e+01,  1.11000000e+02]])"
      ]
     },
     "execution_count": 37,
     "metadata": {},
     "output_type": "execute_result"
    }
   ],
   "source": [
    "df_train_prepared"
   ]
  },
  {
   "cell_type": "markdown",
   "id": "d7ed8087",
   "metadata": {},
   "source": [
    "# Explore many different models"
   ]
  },
  {
   "cell_type": "markdown",
   "id": "1ba25032",
   "metadata": {},
   "source": [
    "## Training and Evaluating on the Training Set"
   ]
  },
  {
   "cell_type": "code",
   "execution_count": 38,
   "id": "d5c16c62",
   "metadata": {
    "ExecuteTime": {
     "end_time": "2022-05-05T07:36:06.852847Z",
     "start_time": "2022-05-05T07:36:06.839989Z"
    }
   },
   "outputs": [],
   "source": [
    "from sklearn.model_selection import cross_val_score\n",
    "\n",
    "def display_scores(scores):\n",
    "    print(\"Scores:\", scores)\n",
    "    print(\"Mean:\", scores.mean())\n",
    "    print(\"Standard deviation:\", scores.std())"
   ]
  },
  {
   "cell_type": "markdown",
   "id": "69198abc",
   "metadata": {},
   "source": [
    "### Using Linear Regression"
   ]
  },
  {
   "cell_type": "code",
   "execution_count": 39,
   "id": "2bf3e109",
   "metadata": {
    "ExecuteTime": {
     "end_time": "2022-05-05T07:36:06.899156Z",
     "start_time": "2022-05-05T07:36:06.855678Z"
    }
   },
   "outputs": [
    {
     "data": {
      "text/plain": [
       "LinearRegression()"
      ]
     },
     "execution_count": 39,
     "metadata": {},
     "output_type": "execute_result"
    }
   ],
   "source": [
    "lin_reg = LinearRegression()\n",
    "lin_reg.fit(df_train_prepared, df_train_labels)"
   ]
  },
  {
   "cell_type": "code",
   "execution_count": 40,
   "id": "71a05f86",
   "metadata": {
    "ExecuteTime": {
     "end_time": "2022-05-05T07:36:06.914533Z",
     "start_time": "2022-05-05T07:36:06.902494Z"
    }
   },
   "outputs": [
    {
     "name": "stdout",
     "output_type": "stream",
     "text": [
      "Linear Regression Model Accuracy Score on Train set: 99.0074%\n"
     ]
    }
   ],
   "source": [
    "df_train_predictions = lin_reg.predict(df_train_prepared)                       \n",
    "accuracy_score = lin_reg.score(df_train_prepared, df_train_labels)  \n",
    "print(\"Linear Regression Model Accuracy Score on Train set: \" + \"{:.4%}\".format(accuracy_score))"
   ]
  },
  {
   "cell_type": "code",
   "execution_count": 41,
   "id": "c09a7f44",
   "metadata": {
    "ExecuteTime": {
     "end_time": "2022-05-05T07:36:06.929980Z",
     "start_time": "2022-05-05T07:36:06.917499Z"
    }
   },
   "outputs": [
    {
     "name": "stdout",
     "output_type": "stream",
     "text": [
      "RMSE Score for Train set: 1.066\n",
      "R2 Score for Train set: 0.9901\n"
     ]
    }
   ],
   "source": [
    "lin_rmse = np.sqrt(mean_squared_error(df_train_labels, df_train_predictions))\n",
    "lin_r2 = r2_score(df_train_labels, df_train_predictions)\n",
    "print(\"RMSE Score for Train set: \" +\"{:.4}\".format(lin_rmse))\n",
    "print(\"R2 Score for Train set: \" +\"{:.4}\".format(lin_r2))"
   ]
  },
  {
   "cell_type": "markdown",
   "id": "27bbce78",
   "metadata": {},
   "source": [
    "## Cross-Validation"
   ]
  },
  {
   "cell_type": "code",
   "execution_count": 42,
   "id": "d8fb10aa",
   "metadata": {
    "ExecuteTime": {
     "end_time": "2022-05-05T07:36:07.370253Z",
     "start_time": "2022-05-05T07:36:06.931976Z"
    }
   },
   "outputs": [
    {
     "name": "stdout",
     "output_type": "stream",
     "text": [
      "Scores: [1.05559443 1.06473674 1.06419154 1.03706288 1.07763045 1.07612606\n",
      " 1.06313381 1.07976215 1.07367518 1.070103  ]\n",
      "Mean: 1.0662016240506227\n",
      "Standard deviation: 0.012088225270004393\n"
     ]
    }
   ],
   "source": [
    "lin_scores = cross_val_score(lin_reg, df_train_prepared, df_train_labels,\n",
    "                             scoring=\"neg_mean_squared_error\", cv=10)\n",
    "lin_rmse_scores = np.sqrt(-lin_scores)\n",
    "display_scores(lin_rmse_scores)"
   ]
  },
  {
   "cell_type": "markdown",
   "id": "b9c0d76b",
   "metadata": {},
   "source": [
    "### Using Polynomial Regression"
   ]
  },
  {
   "cell_type": "code",
   "execution_count": 44,
   "id": "8df8c90f",
   "metadata": {
    "ExecuteTime": {
     "end_time": "2022-05-05T07:36:43.345208Z",
     "start_time": "2022-05-05T07:36:07.374153Z"
    }
   },
   "outputs": [
    {
     "data": {
      "text/plain": [
       "LinearRegression()"
      ]
     },
     "execution_count": 44,
     "metadata": {},
     "output_type": "execute_result"
    }
   ],
   "source": [
    "poly_reg = PolynomialFeatures(degree = 5)\n",
    "poly_transform = poly_reg.fit_transform(df_train_prepared)\n",
    "\n",
    "lin_reg2 = LinearRegression()\n",
    "lin_reg2.fit(poly_transform, df_train_labels)"
   ]
  },
  {
   "cell_type": "code",
   "execution_count": 45,
   "id": "56bdf4f2",
   "metadata": {
    "ExecuteTime": {
     "end_time": "2022-05-05T07:36:43.811798Z",
     "start_time": "2022-05-05T07:36:43.347710Z"
    }
   },
   "outputs": [
    {
     "name": "stdout",
     "output_type": "stream",
     "text": [
      "RMSE Score for Train set: 0.3473\n",
      "R2 Score for Train set: 0.9989\n"
     ]
    }
   ],
   "source": [
    "df_train_predictions = lin_reg2.predict(poly_transform) \n",
    "rmse = np.sqrt(mean_squared_error(df_train_labels, df_train_predictions))\n",
    "r2 = r2_score(df_train_labels, df_train_predictions)\n",
    "print(\"RMSE Score for Train set: \" +\"{:.4}\".format(rmse))\n",
    "print(\"R2 Score for Train set: \" +\"{:.4}\".format(r2))"
   ]
  },
  {
   "cell_type": "markdown",
   "id": "ecbca209",
   "metadata": {},
   "source": [
    "### Cross-Validation"
   ]
  },
  {
   "cell_type": "code",
   "execution_count": 46,
   "id": "59290ced",
   "metadata": {
    "ExecuteTime": {
     "end_time": "2022-05-05T07:36:44.169995Z",
     "start_time": "2022-05-05T07:36:43.813791Z"
    }
   },
   "outputs": [
    {
     "name": "stdout",
     "output_type": "stream",
     "text": [
      "Scores: [1.05559443 1.06473674 1.06419154 1.03706288 1.07763045 1.07612606\n",
      " 1.06313381 1.07976215 1.07367518 1.070103  ]\n",
      "Mean: 1.0662016240506227\n",
      "Standard deviation: 0.012088225270004393\n"
     ]
    }
   ],
   "source": [
    "lin2_scores = cross_val_score(lin_reg2, df_train_prepared, df_train_labels,\n",
    "                             scoring=\"neg_mean_squared_error\", cv=10)\n",
    "lin2_rmse_scores = np.sqrt(-lin2_scores)\n",
    "display_scores(lin2_rmse_scores)"
   ]
  },
  {
   "cell_type": "markdown",
   "id": "2636d42c",
   "metadata": {},
   "source": [
    "### Using Decision Tree Regressor"
   ]
  },
  {
   "cell_type": "code",
   "execution_count": 47,
   "id": "3946e90d",
   "metadata": {
    "ExecuteTime": {
     "end_time": "2022-05-05T07:36:44.893985Z",
     "start_time": "2022-05-05T07:36:44.173034Z"
    }
   },
   "outputs": [
    {
     "data": {
      "text/plain": [
       "DecisionTreeRegressor(random_state=42)"
      ]
     },
     "execution_count": 47,
     "metadata": {},
     "output_type": "execute_result"
    }
   ],
   "source": [
    "from sklearn.tree import DecisionTreeRegressor\n",
    "\n",
    "tree_reg = DecisionTreeRegressor(random_state=42)\n",
    "tree_reg.fit(df_train_prepared, df_train_labels)"
   ]
  },
  {
   "cell_type": "code",
   "execution_count": 48,
   "id": "6ac767e0",
   "metadata": {
    "ExecuteTime": {
     "end_time": "2022-05-05T07:36:44.956752Z",
     "start_time": "2022-05-05T07:36:44.895413Z"
    }
   },
   "outputs": [
    {
     "name": "stdout",
     "output_type": "stream",
     "text": [
      "RMSE Score for Train set: 8.475e-15\n",
      "R2 Score for Train set: 1.0\n"
     ]
    }
   ],
   "source": [
    "df_train_predictions = tree_reg.predict(df_train_prepared)\n",
    "rmse = np.sqrt(mean_squared_error(df_train_labels, df_train_predictions))\n",
    "r2 = r2_score(df_train_labels, df_train_predictions)\n",
    "print(\"RMSE Score for Train set: \" +\"{:.4}\".format(rmse))\n",
    "print(\"R2 Score for Train set: \" +\"{:.4}\".format(r2))"
   ]
  },
  {
   "cell_type": "markdown",
   "id": "1f2fdaee",
   "metadata": {},
   "source": [
    "### Cross-Validation"
   ]
  },
  {
   "cell_type": "code",
   "execution_count": 49,
   "id": "84f222c5",
   "metadata": {
    "ExecuteTime": {
     "end_time": "2022-05-05T07:36:51.041055Z",
     "start_time": "2022-05-05T07:36:44.959208Z"
    }
   },
   "outputs": [
    {
     "name": "stdout",
     "output_type": "stream",
     "text": [
      "Scores: [0.10447227 0.09056481 0.09481024 0.10175114 0.0961035  0.09676889\n",
      " 0.08801433 0.09267221 0.12409075 0.09782074]\n",
      "Mean: 0.09870688715131921\n",
      "Standard deviation: 0.009645681916478362\n"
     ]
    }
   ],
   "source": [
    "scores = cross_val_score(tree_reg, df_train_prepared, df_train_labels,\n",
    "                         scoring=\"neg_mean_squared_error\", cv=10)\n",
    "tree_rmse_scores = np.sqrt(-scores)\n",
    "display_scores(tree_rmse_scores)"
   ]
  },
  {
   "cell_type": "markdown",
   "id": "c0a4d1c8",
   "metadata": {},
   "source": [
    "### Using Random Forest Regressor"
   ]
  },
  {
   "cell_type": "code",
   "execution_count": 50,
   "id": "12eed9bb",
   "metadata": {
    "ExecuteTime": {
     "end_time": "2022-05-05T07:37:36.520332Z",
     "start_time": "2022-05-05T07:36:51.044047Z"
    }
   },
   "outputs": [
    {
     "data": {
      "text/plain": [
       "RandomForestRegressor(random_state=42)"
      ]
     },
     "execution_count": 50,
     "metadata": {},
     "output_type": "execute_result"
    }
   ],
   "source": [
    "forest_reg = RandomForestRegressor(n_estimators=100, random_state=42)\n",
    "forest_reg.fit(df_train_prepared, df_train_labels)"
   ]
  },
  {
   "cell_type": "code",
   "execution_count": 48,
   "id": "c371b788",
   "metadata": {
    "ExecuteTime": {
     "end_time": "2022-05-05T07:37:38.959044Z",
     "start_time": "2022-05-05T07:37:36.523314Z"
    }
   },
   "outputs": [
    {
     "name": "stdout",
     "output_type": "stream",
     "text": [
      "RMSE Score for Train set: 0.02487\n",
      "R2 Score for Train set: 1.0\n"
     ]
    }
   ],
   "source": [
    "df_train_predictions = forest_reg.predict(df_train_prepared)\n",
    "rmse = np.sqrt(mean_squared_error(df_train_labels, df_train_predictions))\n",
    "r2 = r2_score(df_train_labels, df_train_predictions)\n",
    "print(\"RMSE Score for Train set: \" +\"{:.4}\".format(rmse))\n",
    "print(\"R2 Score for Train set: \" +\"{:.4}\".format(r2))"
   ]
  },
  {
   "cell_type": "markdown",
   "id": "44564bcc",
   "metadata": {},
   "source": [
    "### Cross-Validation"
   ]
  },
  {
   "cell_type": "code",
   "execution_count": null,
   "id": "d073cc9a",
   "metadata": {
    "ExecuteTime": {
     "end_time": "2022-05-05T07:44:08.278977Z",
     "start_time": "2022-05-05T07:37:38.961979Z"
    }
   },
   "outputs": [],
   "source": [
    "forest_scores = cross_val_score(forest_reg, df_train_prepared, df_train_labels,\n",
    "                                scoring=\"neg_mean_squared_error\", cv=10)\n",
    "forest_rmse_scores = np.sqrt(-forest_scores)\n",
    "display_scores(forest_rmse_scores)"
   ]
  },
  {
   "cell_type": "code",
   "execution_count": 50,
   "id": "7e420958",
   "metadata": {
    "ExecuteTime": {
     "end_time": "2022-05-05T07:44:08.698658Z",
     "start_time": "2022-05-05T07:44:08.282234Z"
    }
   },
   "outputs": [
    {
     "data": {
      "text/plain": [
       "count    10.000000\n",
       "mean      1.066202\n",
       "std       0.012742\n",
       "min       1.037063\n",
       "25%       1.063398\n",
       "50%       1.067420\n",
       "75%       1.075513\n",
       "max       1.079762\n",
       "dtype: float64"
      ]
     },
     "execution_count": 50,
     "metadata": {},
     "output_type": "execute_result"
    }
   ],
   "source": [
    "scores = cross_val_score(lin_reg, df_train_prepared, df_train_labels, scoring=\"neg_mean_squared_error\", cv=10)\n",
    "pd.Series(np.sqrt(-scores)).describe()"
   ]
  },
  {
   "cell_type": "markdown",
   "id": "eaf8b52e",
   "metadata": {},
   "source": [
    "## Fine-tune the models"
   ]
  },
  {
   "cell_type": "markdown",
   "id": "fddf3d87",
   "metadata": {},
   "source": [
    "### Grid Search"
   ]
  },
  {
   "cell_type": "code",
   "execution_count": 51,
   "id": "b7ddb744",
   "metadata": {
    "ExecuteTime": {
     "end_time": "2022-05-05T07:49:36.224654Z",
     "start_time": "2022-05-05T07:44:08.700163Z"
    }
   },
   "outputs": [
    {
     "data": {
      "text/plain": [
       "GridSearchCV(cv=5, estimator=RandomForestRegressor(random_state=42),\n",
       "             param_grid=[{'max_features': [2, 4, 6, 8],\n",
       "                          'n_estimators': [3, 10, 30]},\n",
       "                         {'bootstrap': [False], 'max_features': [2, 3, 4],\n",
       "                          'n_estimators': [3, 10]}],\n",
       "             return_train_score=True, scoring='neg_mean_squared_error')"
      ]
     },
     "execution_count": 51,
     "metadata": {},
     "output_type": "execute_result"
    }
   ],
   "source": [
    "param_grid = [\n",
    "    # try 12 (3×4) combinations of hyperparameters\n",
    "    {'n_estimators': [3, 10, 30], 'max_features': [2, 4, 6, 8]},\n",
    "    # then try 6 (2×3) combinations with bootstrap set as False\n",
    "    {'bootstrap': [False], 'n_estimators': [3, 10], 'max_features': [2, 3, 4]},\n",
    "  ]\n",
    "\n",
    "forest_reg = RandomForestRegressor(random_state=42)\n",
    "# train across 5 folds, that's a total of (12+6)*5=90 rounds of training \n",
    "grid_search = GridSearchCV(forest_reg, param_grid, cv=5,\n",
    "                           scoring='neg_mean_squared_error',\n",
    "                           return_train_score=True)\n",
    "grid_search.fit(df_train_prepared, df_train_labels)"
   ]
  },
  {
   "cell_type": "markdown",
   "id": "dc34cfd6",
   "metadata": {},
   "source": [
    "The best hyperparameter combination found:"
   ]
  },
  {
   "cell_type": "code",
   "execution_count": 52,
   "id": "17f5041c",
   "metadata": {
    "ExecuteTime": {
     "end_time": "2022-05-05T07:49:36.239838Z",
     "start_time": "2022-05-05T07:49:36.227929Z"
    }
   },
   "outputs": [
    {
     "data": {
      "text/plain": [
       "{'max_features': 8, 'n_estimators': 30}"
      ]
     },
     "execution_count": 52,
     "metadata": {},
     "output_type": "execute_result"
    }
   ],
   "source": [
    "grid_search.best_params_"
   ]
  },
  {
   "cell_type": "code",
   "execution_count": 53,
   "id": "c88b12d9",
   "metadata": {
    "ExecuteTime": {
     "end_time": "2022-05-05T07:49:36.255242Z",
     "start_time": "2022-05-05T07:49:36.242238Z"
    }
   },
   "outputs": [
    {
     "data": {
      "text/plain": [
       "RandomForestRegressor(max_features=8, n_estimators=30, random_state=42)"
      ]
     },
     "execution_count": 53,
     "metadata": {},
     "output_type": "execute_result"
    }
   ],
   "source": [
    "grid_search.best_estimator_"
   ]
  },
  {
   "cell_type": "markdown",
   "id": "c0d84ace",
   "metadata": {},
   "source": [
    "Let's look at the score of each hyperparameter combination tested during the grid search:"
   ]
  },
  {
   "cell_type": "code",
   "execution_count": 54,
   "id": "7f928a07",
   "metadata": {
    "ExecuteTime": {
     "end_time": "2022-05-05T07:49:36.270450Z",
     "start_time": "2022-05-05T07:49:36.256751Z"
    }
   },
   "outputs": [
    {
     "name": "stdout",
     "output_type": "stream",
     "text": [
      "1.3493400747156064 {'max_features': 2, 'n_estimators': 3}\n",
      "0.8365689490006991 {'max_features': 2, 'n_estimators': 10}\n",
      "0.6337615295009298 {'max_features': 2, 'n_estimators': 30}\n",
      "0.47522549045120915 {'max_features': 4, 'n_estimators': 3}\n",
      "0.26656063249650314 {'max_features': 4, 'n_estimators': 10}\n",
      "0.18945538112248247 {'max_features': 4, 'n_estimators': 30}\n",
      "0.13247245123726478 {'max_features': 6, 'n_estimators': 3}\n",
      "0.11036090693596608 {'max_features': 6, 'n_estimators': 10}\n",
      "0.08936346642984355 {'max_features': 6, 'n_estimators': 30}\n",
      "0.09481110369740253 {'max_features': 8, 'n_estimators': 3}\n",
      "0.0790551307547269 {'max_features': 8, 'n_estimators': 10}\n",
      "0.07155239544171056 {'max_features': 8, 'n_estimators': 30}\n",
      "1.1545829936591683 {'bootstrap': False, 'max_features': 2, 'n_estimators': 3}\n",
      "0.7309596259895071 {'bootstrap': False, 'max_features': 2, 'n_estimators': 10}\n",
      "0.6410968933675254 {'bootstrap': False, 'max_features': 3, 'n_estimators': 3}\n",
      "0.3962917901197245 {'bootstrap': False, 'max_features': 3, 'n_estimators': 10}\n",
      "0.37712696560593467 {'bootstrap': False, 'max_features': 4, 'n_estimators': 3}\n",
      "0.23173899580140014 {'bootstrap': False, 'max_features': 4, 'n_estimators': 10}\n"
     ]
    }
   ],
   "source": [
    "cvres = grid_search.cv_results_\n",
    "for mean_score, params in zip(cvres[\"mean_test_score\"], cvres[\"params\"]):\n",
    "    print(np.sqrt(-mean_score), params)"
   ]
  },
  {
   "cell_type": "markdown",
   "id": "bd157758",
   "metadata": {},
   "source": [
    "### Randomized Search"
   ]
  },
  {
   "cell_type": "code",
   "execution_count": 55,
   "id": "7930b7f1",
   "metadata": {
    "ExecuteTime": {
     "end_time": "2022-05-05T08:05:47.287199Z",
     "start_time": "2022-05-05T07:49:36.271447Z"
    }
   },
   "outputs": [
    {
     "data": {
      "text/plain": [
       "RandomizedSearchCV(cv=5, estimator=RandomForestRegressor(random_state=42),\n",
       "                   param_distributions={'max_features': <scipy.stats._distn_infrastructure.rv_frozen object at 0x000001EB40112910>,\n",
       "                                        'n_estimators': <scipy.stats._distn_infrastructure.rv_frozen object at 0x000001EB3FFE7BE0>},\n",
       "                   random_state=42, scoring='neg_mean_squared_error')"
      ]
     },
     "execution_count": 55,
     "metadata": {},
     "output_type": "execute_result"
    }
   ],
   "source": [
    "param_distribs = {\n",
    "        'n_estimators': randint(low=1, high=200),\n",
    "        'max_features': randint(low=1, high=8),\n",
    "    }\n",
    "\n",
    "forest_reg = RandomForestRegressor(random_state=42)\n",
    "rnd_search = RandomizedSearchCV(forest_reg, param_distributions=param_distribs,\n",
    "                                n_iter=10, cv=5, scoring='neg_mean_squared_error', random_state=42)\n",
    "rnd_search.fit(df_train_prepared, df_train_labels)"
   ]
  },
  {
   "cell_type": "code",
   "execution_count": 56,
   "id": "2ed2dd2e",
   "metadata": {
    "ExecuteTime": {
     "end_time": "2022-05-05T08:05:47.302829Z",
     "start_time": "2022-05-05T08:05:47.290189Z"
    }
   },
   "outputs": [
    {
     "name": "stdout",
     "output_type": "stream",
     "text": [
      "0.0720209697619394 {'max_features': 7, 'n_estimators': 180}\n",
      "0.14420523040358857 {'max_features': 5, 'n_estimators': 15}\n",
      "0.28909166268142156 {'max_features': 3, 'n_estimators': 72}\n",
      "0.13089645011318782 {'max_features': 5, 'n_estimators': 21}\n",
      "0.07196045971144051 {'max_features': 7, 'n_estimators': 122}\n",
      "0.2872396194880723 {'max_features': 3, 'n_estimators': 75}\n",
      "0.28079170792340036 {'max_features': 3, 'n_estimators': 88}\n",
      "0.10351435426218712 {'max_features': 5, 'n_estimators': 100}\n",
      "0.26713921588282835 {'max_features': 3, 'n_estimators': 150}\n",
      "0.32677184340926096 {'max_features': 5, 'n_estimators': 2}\n"
     ]
    }
   ],
   "source": [
    "cvres = rnd_search.cv_results_\n",
    "for mean_score, params in zip(cvres[\"mean_test_score\"], cvres[\"params\"]):\n",
    "    print(np.sqrt(-mean_score), params)"
   ]
  },
  {
   "cell_type": "markdown",
   "id": "26be066c",
   "metadata": {},
   "source": [
    "## Analyze the Best Models and Their Errors"
   ]
  },
  {
   "cell_type": "code",
   "execution_count": 57,
   "id": "59c713a7",
   "metadata": {
    "ExecuteTime": {
     "end_time": "2022-05-05T08:05:47.349317Z",
     "start_time": "2022-05-05T08:05:47.305346Z"
    }
   },
   "outputs": [
    {
     "data": {
      "text/plain": [
       "array([9.35524063e-01, 1.12698522e-02, 9.64416970e-03, 8.61619262e-06,\n",
       "       1.71748399e-05, 2.15534067e-05, 4.34871305e-02, 2.22756647e-05,\n",
       "       5.16483313e-06])"
      ]
     },
     "execution_count": 57,
     "metadata": {},
     "output_type": "execute_result"
    }
   ],
   "source": [
    "feature_importances = grid_search.best_estimator_.feature_importances_\n",
    "feature_importances"
   ]
  },
  {
   "cell_type": "code",
   "execution_count": 58,
   "id": "41eae705",
   "metadata": {
    "ExecuteTime": {
     "end_time": "2022-05-05T08:05:47.365261Z",
     "start_time": "2022-05-05T08:05:47.351314Z"
    }
   },
   "outputs": [
    {
     "data": {
      "text/plain": [
       "[(0.9355240627483095, 'Temperature (C)'),\n",
       " (0.043487130454511004, 'rain'),\n",
       " (0.011269852162856921, 'Humidity'),\n",
       " (0.00964416969727931, 'Wind Speed (km/h)'),\n",
       " (2.2275664662783385e-05, 'snow'),\n",
       " (2.1553406727057296e-05, 'Pressure (millibars)'),\n",
       " (1.717483990982125e-05, 'Visibility (km)'),\n",
       " (8.616192617127775e-06, 'Wind Bearing (degrees)')]"
      ]
     },
     "execution_count": 58,
     "metadata": {},
     "output_type": "execute_result"
    }
   ],
   "source": [
    "cat_encoder = full_pipeline.named_transformers_[\"cat\"]\n",
    "cat_one_hot_attribs = list(cat_encoder.categories_[0])\n",
    "attributes = num_attribs + cat_one_hot_attribs\n",
    "sorted(zip(feature_importances, attributes), reverse=True)"
   ]
  },
  {
   "cell_type": "markdown",
   "id": "62459fba",
   "metadata": {},
   "source": [
    "## Evaluate The System on the Test Set"
   ]
  },
  {
   "cell_type": "markdown",
   "id": "36aa04c3",
   "metadata": {},
   "source": [
    "How to Evaluate the Accuracy of Regression Results?\n",
    "- https://medium.com/@amanbamrah/how-to-evaluate-the-accuracy-of-regression-results-b38e5512afd3"
   ]
  },
  {
   "cell_type": "code",
   "execution_count": 59,
   "id": "06c5bc40",
   "metadata": {
    "ExecuteTime": {
     "end_time": "2022-05-05T08:05:47.397201Z",
     "start_time": "2022-05-05T08:05:47.366257Z"
    }
   },
   "outputs": [],
   "source": [
    "final_model = grid_search.best_estimator_\n",
    "\n",
    "X_test = strat_test_set.drop(\"Apparent Temperature (C)\", axis=1)\n",
    "y_test = strat_test_set[\"Apparent Temperature (C)\"].copy()"
   ]
  },
  {
   "cell_type": "code",
   "execution_count": 60,
   "id": "c0ae4621",
   "metadata": {
    "ExecuteTime": {
     "end_time": "2022-05-05T08:05:47.428829Z",
     "start_time": "2022-05-05T08:05:47.399190Z"
    }
   },
   "outputs": [
    {
     "data": {
      "text/html": [
       "<div>\n",
       "<style scoped>\n",
       "    .dataframe tbody tr th:only-of-type {\n",
       "        vertical-align: middle;\n",
       "    }\n",
       "\n",
       "    .dataframe tbody tr th {\n",
       "        vertical-align: top;\n",
       "    }\n",
       "\n",
       "    .dataframe thead th {\n",
       "        text-align: right;\n",
       "    }\n",
       "</style>\n",
       "<table border=\"1\" class=\"dataframe\">\n",
       "  <thead>\n",
       "    <tr style=\"text-align: right;\">\n",
       "      <th></th>\n",
       "      <th>Summary</th>\n",
       "      <th>Precip Type</th>\n",
       "      <th>Temperature (C)</th>\n",
       "      <th>Humidity</th>\n",
       "      <th>Wind Speed (km/h)</th>\n",
       "      <th>Wind Bearing (degrees)</th>\n",
       "      <th>Visibility (km)</th>\n",
       "      <th>Pressure (millibars)</th>\n",
       "      <th>Daily Summary</th>\n",
       "    </tr>\n",
       "  </thead>\n",
       "  <tbody>\n",
       "    <tr>\n",
       "      <th>62922</th>\n",
       "      <td>Partly Cloudy</td>\n",
       "      <td>rain</td>\n",
       "      <td>22.277778</td>\n",
       "      <td>0.41</td>\n",
       "      <td>19.3522</td>\n",
       "      <td>25.0</td>\n",
       "      <td>10.3523</td>\n",
       "      <td>1016.65</td>\n",
       "      <td>Partly cloudy starting in the morning continui...</td>\n",
       "    </tr>\n",
       "    <tr>\n",
       "      <th>84378</th>\n",
       "      <td>Overcast</td>\n",
       "      <td>rain</td>\n",
       "      <td>11.133333</td>\n",
       "      <td>0.93</td>\n",
       "      <td>19.8030</td>\n",
       "      <td>160.0</td>\n",
       "      <td>4.5241</td>\n",
       "      <td>1018.19</td>\n",
       "      <td>Foggy starting in the evening.</td>\n",
       "    </tr>\n",
       "    <tr>\n",
       "      <th>11160</th>\n",
       "      <td>Partly Cloudy</td>\n",
       "      <td>rain</td>\n",
       "      <td>10.016667</td>\n",
       "      <td>0.38</td>\n",
       "      <td>14.2968</td>\n",
       "      <td>29.0</td>\n",
       "      <td>10.3523</td>\n",
       "      <td>1020.76</td>\n",
       "      <td>Partly cloudy starting in the morning.</td>\n",
       "    </tr>\n",
       "    <tr>\n",
       "      <th>16692</th>\n",
       "      <td>Foggy</td>\n",
       "      <td>rain</td>\n",
       "      <td>5.033333</td>\n",
       "      <td>0.94</td>\n",
       "      <td>10.0786</td>\n",
       "      <td>58.0</td>\n",
       "      <td>2.8980</td>\n",
       "      <td>1020.04</td>\n",
       "      <td>Foggy in the morning.</td>\n",
       "    </tr>\n",
       "    <tr>\n",
       "      <th>79885</th>\n",
       "      <td>Clear</td>\n",
       "      <td>rain</td>\n",
       "      <td>7.688889</td>\n",
       "      <td>0.52</td>\n",
       "      <td>10.7709</td>\n",
       "      <td>140.0</td>\n",
       "      <td>16.1000</td>\n",
       "      <td>1025.09</td>\n",
       "      <td>Partly cloudy starting in the morning.</td>\n",
       "    </tr>\n",
       "    <tr>\n",
       "      <th>...</th>\n",
       "      <td>...</td>\n",
       "      <td>...</td>\n",
       "      <td>...</td>\n",
       "      <td>...</td>\n",
       "      <td>...</td>\n",
       "      <td>...</td>\n",
       "      <td>...</td>\n",
       "      <td>...</td>\n",
       "      <td>...</td>\n",
       "    </tr>\n",
       "    <tr>\n",
       "      <th>32373</th>\n",
       "      <td>Mostly Cloudy</td>\n",
       "      <td>rain</td>\n",
       "      <td>17.777778</td>\n",
       "      <td>0.46</td>\n",
       "      <td>22.5400</td>\n",
       "      <td>330.0</td>\n",
       "      <td>9.9820</td>\n",
       "      <td>1015.00</td>\n",
       "      <td>Mostly cloudy until night.</td>\n",
       "    </tr>\n",
       "    <tr>\n",
       "      <th>26445</th>\n",
       "      <td>Foggy</td>\n",
       "      <td>snow</td>\n",
       "      <td>-2.222222</td>\n",
       "      <td>1.00</td>\n",
       "      <td>4.8300</td>\n",
       "      <td>20.0</td>\n",
       "      <td>0.1610</td>\n",
       "      <td>997.40</td>\n",
       "      <td>Foggy starting overnight continuing until afte...</td>\n",
       "    </tr>\n",
       "    <tr>\n",
       "      <th>79610</th>\n",
       "      <td>Mostly Cloudy</td>\n",
       "      <td>rain</td>\n",
       "      <td>13.905556</td>\n",
       "      <td>0.67</td>\n",
       "      <td>29.7367</td>\n",
       "      <td>195.0</td>\n",
       "      <td>15.5526</td>\n",
       "      <td>1000.61</td>\n",
       "      <td>Mostly cloudy throughout the day.</td>\n",
       "    </tr>\n",
       "    <tr>\n",
       "      <th>87348</th>\n",
       "      <td>Partly Cloudy</td>\n",
       "      <td>rain</td>\n",
       "      <td>7.777778</td>\n",
       "      <td>0.89</td>\n",
       "      <td>10.8514</td>\n",
       "      <td>129.0</td>\n",
       "      <td>15.3755</td>\n",
       "      <td>1021.13</td>\n",
       "      <td>Mostly cloudy throughout the day.</td>\n",
       "    </tr>\n",
       "    <tr>\n",
       "      <th>40215</th>\n",
       "      <td>Overcast</td>\n",
       "      <td>rain</td>\n",
       "      <td>15.488889</td>\n",
       "      <td>0.93</td>\n",
       "      <td>16.8567</td>\n",
       "      <td>290.0</td>\n",
       "      <td>14.9086</td>\n",
       "      <td>1012.73</td>\n",
       "      <td>Partly cloudy until night.</td>\n",
       "    </tr>\n",
       "  </tbody>\n",
       "</table>\n",
       "<p>18921 rows × 9 columns</p>\n",
       "</div>"
      ],
      "text/plain": [
       "             Summary Precip Type  Temperature (C)  Humidity  \\\n",
       "62922  Partly Cloudy        rain        22.277778      0.41   \n",
       "84378       Overcast        rain        11.133333      0.93   \n",
       "11160  Partly Cloudy        rain        10.016667      0.38   \n",
       "16692          Foggy        rain         5.033333      0.94   \n",
       "79885          Clear        rain         7.688889      0.52   \n",
       "...              ...         ...              ...       ...   \n",
       "32373  Mostly Cloudy        rain        17.777778      0.46   \n",
       "26445          Foggy        snow        -2.222222      1.00   \n",
       "79610  Mostly Cloudy        rain        13.905556      0.67   \n",
       "87348  Partly Cloudy        rain         7.777778      0.89   \n",
       "40215       Overcast        rain        15.488889      0.93   \n",
       "\n",
       "       Wind Speed (km/h)  Wind Bearing (degrees)  Visibility (km)  \\\n",
       "62922            19.3522                    25.0          10.3523   \n",
       "84378            19.8030                   160.0           4.5241   \n",
       "11160            14.2968                    29.0          10.3523   \n",
       "16692            10.0786                    58.0           2.8980   \n",
       "79885            10.7709                   140.0          16.1000   \n",
       "...                  ...                     ...              ...   \n",
       "32373            22.5400                   330.0           9.9820   \n",
       "26445             4.8300                    20.0           0.1610   \n",
       "79610            29.7367                   195.0          15.5526   \n",
       "87348            10.8514                   129.0          15.3755   \n",
       "40215            16.8567                   290.0          14.9086   \n",
       "\n",
       "       Pressure (millibars)                                      Daily Summary  \n",
       "62922               1016.65  Partly cloudy starting in the morning continui...  \n",
       "84378               1018.19                     Foggy starting in the evening.  \n",
       "11160               1020.76             Partly cloudy starting in the morning.  \n",
       "16692               1020.04                              Foggy in the morning.  \n",
       "79885               1025.09             Partly cloudy starting in the morning.  \n",
       "...                     ...                                                ...  \n",
       "32373               1015.00                         Mostly cloudy until night.  \n",
       "26445                997.40  Foggy starting overnight continuing until afte...  \n",
       "79610               1000.61                  Mostly cloudy throughout the day.  \n",
       "87348               1021.13                  Mostly cloudy throughout the day.  \n",
       "40215               1012.73                         Partly cloudy until night.  \n",
       "\n",
       "[18921 rows x 9 columns]"
      ]
     },
     "execution_count": 60,
     "metadata": {},
     "output_type": "execute_result"
    }
   ],
   "source": [
    "X_test"
   ]
  },
  {
   "cell_type": "code",
   "execution_count": 61,
   "id": "71a5ccb5",
   "metadata": {
    "ExecuteTime": {
     "end_time": "2022-05-05T08:05:47.459861Z",
     "start_time": "2022-05-05T08:05:47.430816Z"
    }
   },
   "outputs": [
    {
     "data": {
      "text/html": [
       "<div>\n",
       "<style scoped>\n",
       "    .dataframe tbody tr th:only-of-type {\n",
       "        vertical-align: middle;\n",
       "    }\n",
       "\n",
       "    .dataframe tbody tr th {\n",
       "        vertical-align: top;\n",
       "    }\n",
       "\n",
       "    .dataframe thead th {\n",
       "        text-align: right;\n",
       "    }\n",
       "</style>\n",
       "<table border=\"1\" class=\"dataframe\">\n",
       "  <thead>\n",
       "    <tr style=\"text-align: right;\">\n",
       "      <th></th>\n",
       "      <th>Temperature (C)</th>\n",
       "      <th>Humidity</th>\n",
       "      <th>Wind Speed (km/h)</th>\n",
       "      <th>Wind Bearing (degrees)</th>\n",
       "      <th>Visibility (km)</th>\n",
       "      <th>Pressure (millibars)</th>\n",
       "    </tr>\n",
       "  </thead>\n",
       "  <tbody>\n",
       "    <tr>\n",
       "      <th>62922</th>\n",
       "      <td>22.277778</td>\n",
       "      <td>0.41</td>\n",
       "      <td>19.3522</td>\n",
       "      <td>25.0</td>\n",
       "      <td>10.3523</td>\n",
       "      <td>1016.65</td>\n",
       "    </tr>\n",
       "    <tr>\n",
       "      <th>84378</th>\n",
       "      <td>11.133333</td>\n",
       "      <td>0.93</td>\n",
       "      <td>19.8030</td>\n",
       "      <td>160.0</td>\n",
       "      <td>4.5241</td>\n",
       "      <td>1018.19</td>\n",
       "    </tr>\n",
       "    <tr>\n",
       "      <th>11160</th>\n",
       "      <td>10.016667</td>\n",
       "      <td>0.38</td>\n",
       "      <td>14.2968</td>\n",
       "      <td>29.0</td>\n",
       "      <td>10.3523</td>\n",
       "      <td>1020.76</td>\n",
       "    </tr>\n",
       "    <tr>\n",
       "      <th>16692</th>\n",
       "      <td>5.033333</td>\n",
       "      <td>0.94</td>\n",
       "      <td>10.0786</td>\n",
       "      <td>58.0</td>\n",
       "      <td>2.8980</td>\n",
       "      <td>1020.04</td>\n",
       "    </tr>\n",
       "    <tr>\n",
       "      <th>79885</th>\n",
       "      <td>7.688889</td>\n",
       "      <td>0.52</td>\n",
       "      <td>10.7709</td>\n",
       "      <td>140.0</td>\n",
       "      <td>16.1000</td>\n",
       "      <td>1025.09</td>\n",
       "    </tr>\n",
       "  </tbody>\n",
       "</table>\n",
       "</div>"
      ],
      "text/plain": [
       "       Temperature (C)  Humidity  Wind Speed (km/h)  Wind Bearing (degrees)  \\\n",
       "62922        22.277778      0.41            19.3522                    25.0   \n",
       "84378        11.133333      0.93            19.8030                   160.0   \n",
       "11160        10.016667      0.38            14.2968                    29.0   \n",
       "16692         5.033333      0.94            10.0786                    58.0   \n",
       "79885         7.688889      0.52            10.7709                   140.0   \n",
       "\n",
       "       Visibility (km)  Pressure (millibars)  \n",
       "62922          10.3523               1016.65  \n",
       "84378           4.5241               1018.19  \n",
       "11160          10.3523               1020.76  \n",
       "16692           2.8980               1020.04  \n",
       "79885          16.1000               1025.09  "
      ]
     },
     "execution_count": 61,
     "metadata": {},
     "output_type": "execute_result"
    }
   ],
   "source": [
    "X_test_num = X_test.select_dtypes(include=[np.number])\n",
    "X_test_num.head()"
   ]
  },
  {
   "cell_type": "code",
   "execution_count": 62,
   "id": "b3f9c8ea",
   "metadata": {
    "ExecuteTime": {
     "end_time": "2022-05-05T08:05:47.539290Z",
     "start_time": "2022-05-05T08:05:47.461572Z"
    }
   },
   "outputs": [],
   "source": [
    "num_attribs = list(X_test_num)\n",
    "cat_attribs = [\"Precip Type\", \"Summary\", \"Daily Summary\"]\n",
    "\n",
    "X_test_prepared = full_pipeline.fit_transform(X_test)"
   ]
  },
  {
   "cell_type": "code",
   "execution_count": 63,
   "id": "008a6c94",
   "metadata": {
    "ExecuteTime": {
     "end_time": "2022-05-05T08:05:47.727892Z",
     "start_time": "2022-05-05T08:05:47.541273Z"
    }
   },
   "outputs": [],
   "source": [
    "final_predictions = final_model.predict(X_test_prepared)\n",
    "\n",
    "final_mse = mean_squared_error(y_test, final_predictions)\n",
    "final_rmse = np.sqrt(final_mse)"
   ]
  },
  {
   "cell_type": "code",
   "execution_count": 64,
   "id": "6015972f",
   "metadata": {
    "ExecuteTime": {
     "end_time": "2022-05-05T08:05:47.742911Z",
     "start_time": "2022-05-05T08:05:47.729795Z"
    }
   },
   "outputs": [
    {
     "data": {
      "text/plain": [
       "0.08061090003232285"
      ]
     },
     "execution_count": 64,
     "metadata": {},
     "output_type": "execute_result"
    }
   ],
   "source": [
    "final_rmse"
   ]
  },
  {
   "cell_type": "markdown",
   "id": "3cfc77be",
   "metadata": {},
   "source": [
    "Checking whether the model is overfitting or not"
   ]
  },
  {
   "cell_type": "code",
   "execution_count": 65,
   "id": "b4f51f8e",
   "metadata": {
    "ExecuteTime": {
     "end_time": "2022-05-05T08:05:48.563725Z",
     "start_time": "2022-05-05T08:05:47.745410Z"
    }
   },
   "outputs": [
    {
     "name": "stdout",
     "output_type": "stream",
     "text": [
      "training score--->0.9999940754815181\n",
      "testing score--->0.9999431318296209\n"
     ]
    }
   ],
   "source": [
    "print(f\"training score--->{final_model.score(df_train_prepared,df_train_labels)}\")\n",
    "print(f\"testing score--->{final_model.score(X_test_prepared,y_test)}\")"
   ]
  },
  {
   "cell_type": "markdown",
   "id": "25c138f0",
   "metadata": {},
   "source": [
    "**No overfitting!!!!**"
   ]
  },
  {
   "cell_type": "markdown",
   "id": "cc02de01",
   "metadata": {},
   "source": [
    "## Present the solution"
   ]
  },
  {
   "cell_type": "markdown",
   "id": "fa4b42ac",
   "metadata": {},
   "source": [
    "Copy the actual values, predicted values, and their differences into one data frame"
   ]
  },
  {
   "cell_type": "code",
   "execution_count": 66,
   "id": "36e6d71b",
   "metadata": {
    "ExecuteTime": {
     "end_time": "2022-05-05T08:05:48.595040Z",
     "start_time": "2022-05-05T08:05:48.566038Z"
    }
   },
   "outputs": [
    {
     "data": {
      "text/html": [
       "<div>\n",
       "<style scoped>\n",
       "    .dataframe tbody tr th:only-of-type {\n",
       "        vertical-align: middle;\n",
       "    }\n",
       "\n",
       "    .dataframe tbody tr th {\n",
       "        vertical-align: top;\n",
       "    }\n",
       "\n",
       "    .dataframe thead th {\n",
       "        text-align: right;\n",
       "    }\n",
       "</style>\n",
       "<table border=\"1\" class=\"dataframe\">\n",
       "  <thead>\n",
       "    <tr style=\"text-align: right;\">\n",
       "      <th></th>\n",
       "      <th>actual</th>\n",
       "      <th>prediction</th>\n",
       "      <th>diff</th>\n",
       "    </tr>\n",
       "  </thead>\n",
       "  <tbody>\n",
       "    <tr>\n",
       "      <th>62922</th>\n",
       "      <td>22.277778</td>\n",
       "      <td>22.297963</td>\n",
       "      <td>-2.018519e-02</td>\n",
       "    </tr>\n",
       "    <tr>\n",
       "      <th>84378</th>\n",
       "      <td>11.133333</td>\n",
       "      <td>11.133889</td>\n",
       "      <td>-5.555556e-04</td>\n",
       "    </tr>\n",
       "    <tr>\n",
       "      <th>11160</th>\n",
       "      <td>10.016667</td>\n",
       "      <td>10.016852</td>\n",
       "      <td>-1.851852e-04</td>\n",
       "    </tr>\n",
       "    <tr>\n",
       "      <th>16692</th>\n",
       "      <td>2.694444</td>\n",
       "      <td>2.696667</td>\n",
       "      <td>-2.222222e-03</td>\n",
       "    </tr>\n",
       "    <tr>\n",
       "      <th>79885</th>\n",
       "      <td>5.738889</td>\n",
       "      <td>5.766852</td>\n",
       "      <td>-2.796296e-02</td>\n",
       "    </tr>\n",
       "    <tr>\n",
       "      <th>43515</th>\n",
       "      <td>10.072222</td>\n",
       "      <td>10.072222</td>\n",
       "      <td>-3.552714e-15</td>\n",
       "    </tr>\n",
       "    <tr>\n",
       "      <th>58449</th>\n",
       "      <td>15.044444</td>\n",
       "      <td>15.055370</td>\n",
       "      <td>-1.092593e-02</td>\n",
       "    </tr>\n",
       "    <tr>\n",
       "      <th>18754</th>\n",
       "      <td>6.572222</td>\n",
       "      <td>6.565741</td>\n",
       "      <td>6.481481e-03</td>\n",
       "    </tr>\n",
       "    <tr>\n",
       "      <th>90943</th>\n",
       "      <td>13.033333</td>\n",
       "      <td>13.037037</td>\n",
       "      <td>-3.703704e-03</td>\n",
       "    </tr>\n",
       "    <tr>\n",
       "      <th>70625</th>\n",
       "      <td>6.622222</td>\n",
       "      <td>6.616111</td>\n",
       "      <td>6.111111e-03</td>\n",
       "    </tr>\n",
       "  </tbody>\n",
       "</table>\n",
       "</div>"
      ],
      "text/plain": [
       "          actual  prediction          diff\n",
       "62922  22.277778   22.297963 -2.018519e-02\n",
       "84378  11.133333   11.133889 -5.555556e-04\n",
       "11160  10.016667   10.016852 -1.851852e-04\n",
       "16692   2.694444    2.696667 -2.222222e-03\n",
       "79885   5.738889    5.766852 -2.796296e-02\n",
       "43515  10.072222   10.072222 -3.552714e-15\n",
       "58449  15.044444   15.055370 -1.092593e-02\n",
       "18754   6.572222    6.565741  6.481481e-03\n",
       "90943  13.033333   13.037037 -3.703704e-03\n",
       "70625   6.622222    6.616111  6.111111e-03"
      ]
     },
     "execution_count": 66,
     "metadata": {},
     "output_type": "execute_result"
    }
   ],
   "source": [
    "## final_predictions = y_hat\n",
    "test_df =pd.DataFrame({\n",
    "              'actual':y_test,\n",
    "              'prediction':final_predictions,\n",
    "              'diff':(y_test-final_predictions)})\n",
    "test_df.head(10)"
   ]
  },
  {
   "cell_type": "markdown",
   "id": "eba03b11",
   "metadata": {},
   "source": [
    "We can see from above data frame, the row indexes may not in the order so we can reset the index by following below code to avoid problems in future,"
   ]
  },
  {
   "cell_type": "code",
   "execution_count": 67,
   "id": "4efadd3a",
   "metadata": {
    "ExecuteTime": {
     "end_time": "2022-05-05T08:05:48.626706Z",
     "start_time": "2022-05-05T08:05:48.596040Z"
    }
   },
   "outputs": [
    {
     "data": {
      "text/html": [
       "<div>\n",
       "<style scoped>\n",
       "    .dataframe tbody tr th:only-of-type {\n",
       "        vertical-align: middle;\n",
       "    }\n",
       "\n",
       "    .dataframe tbody tr th {\n",
       "        vertical-align: top;\n",
       "    }\n",
       "\n",
       "    .dataframe thead th {\n",
       "        text-align: right;\n",
       "    }\n",
       "</style>\n",
       "<table border=\"1\" class=\"dataframe\">\n",
       "  <thead>\n",
       "    <tr style=\"text-align: right;\">\n",
       "      <th></th>\n",
       "      <th>actual</th>\n",
       "      <th>prediction</th>\n",
       "      <th>diff</th>\n",
       "    </tr>\n",
       "  </thead>\n",
       "  <tbody>\n",
       "    <tr>\n",
       "      <th>0</th>\n",
       "      <td>22.277778</td>\n",
       "      <td>22.297963</td>\n",
       "      <td>-2.018519e-02</td>\n",
       "    </tr>\n",
       "    <tr>\n",
       "      <th>1</th>\n",
       "      <td>11.133333</td>\n",
       "      <td>11.133889</td>\n",
       "      <td>-5.555556e-04</td>\n",
       "    </tr>\n",
       "    <tr>\n",
       "      <th>2</th>\n",
       "      <td>10.016667</td>\n",
       "      <td>10.016852</td>\n",
       "      <td>-1.851852e-04</td>\n",
       "    </tr>\n",
       "    <tr>\n",
       "      <th>3</th>\n",
       "      <td>2.694444</td>\n",
       "      <td>2.696667</td>\n",
       "      <td>-2.222222e-03</td>\n",
       "    </tr>\n",
       "    <tr>\n",
       "      <th>4</th>\n",
       "      <td>5.738889</td>\n",
       "      <td>5.766852</td>\n",
       "      <td>-2.796296e-02</td>\n",
       "    </tr>\n",
       "    <tr>\n",
       "      <th>5</th>\n",
       "      <td>10.072222</td>\n",
       "      <td>10.072222</td>\n",
       "      <td>-3.552714e-15</td>\n",
       "    </tr>\n",
       "    <tr>\n",
       "      <th>6</th>\n",
       "      <td>15.044444</td>\n",
       "      <td>15.055370</td>\n",
       "      <td>-1.092593e-02</td>\n",
       "    </tr>\n",
       "    <tr>\n",
       "      <th>7</th>\n",
       "      <td>6.572222</td>\n",
       "      <td>6.565741</td>\n",
       "      <td>6.481481e-03</td>\n",
       "    </tr>\n",
       "    <tr>\n",
       "      <th>8</th>\n",
       "      <td>13.033333</td>\n",
       "      <td>13.037037</td>\n",
       "      <td>-3.703704e-03</td>\n",
       "    </tr>\n",
       "    <tr>\n",
       "      <th>9</th>\n",
       "      <td>6.622222</td>\n",
       "      <td>6.616111</td>\n",
       "      <td>6.111111e-03</td>\n",
       "    </tr>\n",
       "  </tbody>\n",
       "</table>\n",
       "</div>"
      ],
      "text/plain": [
       "      actual  prediction          diff\n",
       "0  22.277778   22.297963 -2.018519e-02\n",
       "1  11.133333   11.133889 -5.555556e-04\n",
       "2  10.016667   10.016852 -1.851852e-04\n",
       "3   2.694444    2.696667 -2.222222e-03\n",
       "4   5.738889    5.766852 -2.796296e-02\n",
       "5  10.072222   10.072222 -3.552714e-15\n",
       "6  15.044444   15.055370 -1.092593e-02\n",
       "7   6.572222    6.565741  6.481481e-03\n",
       "8  13.033333   13.037037 -3.703704e-03\n",
       "9   6.622222    6.616111  6.111111e-03"
      ]
     },
     "execution_count": 67,
     "metadata": {},
     "output_type": "execute_result"
    }
   ],
   "source": [
    "test_df=test_df.reset_index(drop=True)\n",
    "test_df.head(10) # For Verification After reset the index we can see that its start from zero"
   ]
  },
  {
   "cell_type": "code",
   "execution_count": 68,
   "id": "f900c59c",
   "metadata": {
    "ExecuteTime": {
     "end_time": "2022-05-05T08:05:49.161527Z",
     "start_time": "2022-05-05T08:05:48.646639Z"
    }
   },
   "outputs": [
    {
     "data": {
      "image/png": "[encoded data removed]",
      "text/plain": [
       "<Figure size 1008x576 with 1 Axes>"
      ]
     },
     "metadata": {
      "needs_background": "light"
     },
     "output_type": "display_data"
    }
   ],
   "source": [
    "# set width of bar\n",
    "barWidth = 0.25\n",
    "fig = plt.subplots(figsize =(14, 8))\n",
    " \n",
    "# Set position of bar on X axis\n",
    "br1 = np.arange(len(test_df['prediction'][:50]))\n",
    "br2 = [x + barWidth for x in br1]\n",
    "\n",
    "# Make the plot\n",
    "# Load the 50 data points from prediction with label name 'Pred' \n",
    "plt.bar(br1, test_df['prediction'][:50], color ='y', width = barWidth,\n",
    "        edgecolor ='grey', label ='Pred')\n",
    "\n",
    "# Load the 50 data points from actual with label name 'Actual' \n",
    "plt.bar(br2, test_df['actual'][:50], color ='r', width = barWidth,\n",
    "        edgecolor ='grey', label ='Actual')\n",
    "\n",
    "# Adding Xticks\n",
    "plt.xlabel('x - axis')\n",
    "plt.ylabel('y - axis')\n",
    "\n",
    "plt.legend()\n",
    "plt.show()"
   ]
  },
  {
   "cell_type": "markdown",
   "id": "58bfb81e",
   "metadata": {},
   "source": [
    "Calculate the Percentage of explained variance of the predictions"
   ]
  },
  {
   "cell_type": "code",
   "execution_count": 69,
   "id": "f45f06a4",
   "metadata": {
    "ExecuteTime": {
     "end_time": "2022-05-05T08:05:49.366626Z",
     "start_time": "2022-05-05T08:05:49.168516Z"
    }
   },
   "outputs": [
    {
     "name": "stdout",
     "output_type": "stream",
     "text": [
      "0.9999431318296209\n"
     ]
    }
   ],
   "source": [
    "print(final_model.score(X_test_prepared,y_test))"
   ]
  },
  {
   "cell_type": "markdown",
   "id": "5615e5c7",
   "metadata": {},
   "source": [
    "Calculate the Cross-Predicted Accuracy of the model"
   ]
  },
  {
   "cell_type": "code",
   "execution_count": 70,
   "id": "3a134bc2",
   "metadata": {
    "ExecuteTime": {
     "end_time": "2022-05-05T08:05:49.381935Z",
     "start_time": "2022-05-05T08:05:49.368007Z"
    }
   },
   "outputs": [
    {
     "name": "stdout",
     "output_type": "stream",
     "text": [
      "Cross-Predicted Accuracy: 0.9999431318296209\n"
     ]
    }
   ],
   "source": [
    "accuracy = metrics.r2_score(y_test, final_predictions)\n",
    "print(\"Cross-Predicted Accuracy:\", accuracy)"
   ]
  },
  {
   "cell_type": "markdown",
   "id": "bc480b74",
   "metadata": {},
   "source": [
    "By following below code we can create the distribution Plot to look at the distribution of the actual vs predicted values for our model."
   ]
  },
  {
   "cell_type": "code",
   "execution_count": null,
   "id": "87e19ec8",
   "metadata": {
    "ExecuteTime": {
     "end_time": "2022-05-05T08:05:49.917961Z",
     "start_time": "2022-05-05T08:05:49.384834Z"
    }
   },
   "outputs": [],
   "source": [
    "plt.rcParams[\"figure.figsize\"] = (24, 8)\n",
    "# ax = sns.distplot(y_test, hist=False, color =\"r\",label=\"Test\")\n",
    "# sns.displot(data=test_df, x=\"actual\", kind=\"kde\", color =\"r\",label=\"Actual\")\n",
    "# sns.displot(data=test_df, x=\"prediction\", kind=\"kde\", color =\"b\",label=\"Prediction\")\n",
    "sns.distplot(y_test,hist=False,color =\"r\",label=\"Actual\")\n",
    "sns.distplot(final_predictions,hist=False,color =\"b\",label=\"Prediction\")"
   ]
  }
 ],
 "metadata": {
  "kernelspec": {
   "display_name": "Python 3 (ipykernel)",
   "language": "python",
   "name": "python3"
  },
  "language_info": {
   "codemirror_mode": {
    "name": "ipython",
    "version": 3
   },
   "file_extension": ".py",
   "mimetype": "text/x-python",
   "name": "python",
   "nbconvert_exporter": "python",
   "pygments_lexer": "ipython3",
   "version": "3.7.11"
  },
  "toc": {
   "base_numbering": 1,
   "nav_menu": {},
   "number_sections": true,
   "sideBar": true,
   "skip_h1_title": false,
   "title_cell": "Table of Contents",
   "title_sidebar": "Contents",
   "toc_cell": false,
   "toc_position": {
    "height": "calc(100% - 180px)",
    "left": "10px",
    "top": "150px",
    "width": "385.825px"
   },
   "toc_section_display": true,
   "toc_window_display": true
  },
  "varInspector": {
   "cols": {
    "lenName": 16,
    "lenType": 16,
    "lenVar": 40
   },
   "kernels_config": {
    "python": {
     "delete_cmd_postfix": "",
     "delete_cmd_prefix": "del ",
     "library": "var_list.py",
     "varRefreshCmd": "print(var_dic_list())"
    },
    "r": {
     "delete_cmd_postfix": ") ",
     "delete_cmd_prefix": "rm(",
     "library": "var_list.r",
     "varRefreshCmd": "cat(var_dic_list()) "
    }
   },
   "types_to_exclude": [
    "module",
    "function",
    "builtin_function_or_method",
    "instance",
    "_Feature"
   ],
   "window_display": false
  }
 },
 "nbformat": 4,
 "nbformat_minor": 5
}
